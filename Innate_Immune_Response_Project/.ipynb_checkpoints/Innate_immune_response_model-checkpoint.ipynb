{
 "metadata": {
  "name": "",
  "signature": "sha256:81d77823772ad9d0281f45d2c9ff70afddec3154dbfc1007ac4592be8b1f346c"
 },
 "nbformat": 3,
 "nbformat_minor": 0,
 "worksheets": [
  {
   "cells": [
    {
     "cell_type": "raw",
     "metadata": {},
     "source": [
      "# Innate Immune Response Model\n"
     ]
    },
    {
     "cell_type": "code",
     "collapsed": false,
     "input": [],
     "language": "python",
     "metadata": {},
     "outputs": []
    }
   ],
   "metadata": {}
  }
 ]
}