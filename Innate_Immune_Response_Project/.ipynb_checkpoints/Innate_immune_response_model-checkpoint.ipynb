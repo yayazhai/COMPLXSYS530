{
 "metadata": {
  "name": "",
  "signature": "sha256:529f0e75ce69184d362fe0503df539783c6dc6f92529dad77671c68e908a5e8e"
 },
 "nbformat": 3,
 "nbformat_minor": 0,
 "worksheets": [
  {
   "cells": [
    {
     "cell_type": "markdown",
     "metadata": {},
     "source": [
      "# Innate Immune Response Model\n"
     ]
    },
    {
     "cell_type": "code",
     "collapsed": false,
     "input": [],
     "language": "python",
     "metadata": {},
     "outputs": []
    }
   ],
   "metadata": {}
  }
 ]
}