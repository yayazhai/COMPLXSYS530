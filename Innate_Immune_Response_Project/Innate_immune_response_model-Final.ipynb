{
 "metadata": {
  "name": "",
  "signature": "sha256:38d8fa9b9e96bad1046bbc5fa11adf49cb071b5624a29f2dce866e53cfaab0e6"
 },
 "nbformat": 3,
 "nbformat_minor": 0,
 "worksheets": [
  {
   "cells": [
    {
     "cell_type": "markdown",
     "metadata": {},
     "source": [
      "Final project for CSCS530 course\n",
      "# An Agent-Based Model (ABM) to Explore New Drug Target for Innate Immune Response (IIR)\n",
      "\n",
      "Author: Yaya Zhai\n",
      "\n",
      "Date: 04/27/2015\n",
      "\n",
      "#### Contents\n",
      "* [Abstract](#abstract)\n",
      "* [Introduction](#introduction)\n",
      "* [Methods](#methods)\n",
      "* [Code](#code)\n",
      "* [Results and Discussion](#results)\n",
      "* [Reference](#reference)\n",
      "* [Acknowledgement](#acknowledgement)"
     ]
    },
    {
     "cell_type": "markdown",
     "metadata": {},
     "source": [
      "<a id='abstract'></a>\n",
      "### Abstract\n",
      "Innate immune response (IIR) is generally recognized as the first barrier to defend against infections. However, sometimes infections can cause serious disturbance in IIR even after the pathogens have been eliminated from the system, which includes outcomes like sepsis and systemic inflammatory response syndrome (SIRS)/ multiple organ failure (MOF). Gary An$^{[1]}$ has built an ABM to successfully predict the failure of two anti-cytokine drugs in their clinical trials. Though the predictions of all clinical experiments from the ABM accorded with the outcome of the experiment, neither of them was positive or ameliorated the sepsis situation, nor was mortality  improved. Here we rebuilt the model with the ability to simulate the outcome of the system with input of different kinds of cytokine antibodies and receptor modulators, trying to find in which way to manipulate the system can ameliorate the situation, which may prove to be new drug targets."
     ]
    },
    {
     "cell_type": "markdown",
     "metadata": {},
     "source": [
      "<a id='introduction'></a>\n",
      "### Introduction\n",
      "Human immune system is a non-linear system to defend against infection using complex mechanisms involving multiple cells and molecules. However, the fight to eliminate pathogens can sometimes harm the normal tissues and organs as well. For example, the reactive oxygen species (ROS) that can exterminate germs can also cause death of human cells. The disturbance of infection to the immune system is very complicated and remains a threat even after the infection has been purged due to inflammatory processes. Systemic inflammatory response syndrome (SIRS)/multiple organ failure (MOF) is a life threaten after infection disturbs innate immune response (IIR)$^{[2]}$, especially in pre-ICU era. Now with the intervene of modern ICU, patients can tolerate temporally much severer organ damage and have a larger chance to survive. However, the effort of anti-cytokine drug discovery hasn\u2019t paid off so far.\n",
      "\n",
      "The innate immune response(IIR) is based on the behavior of cells and related inflammatory factors (cytokines). To be specific, tissue cells and different white blood cells interact with each other directly, meanwhile releasing certain chemicals including inflammatory factors (cytokines) that have distinct effects on different cells. In addition, cells can move around and have different status and actions even if they are the same type. All these together form a complicated system. By creating ABM to outline the behavior of cells and related inflammatory factors, it is possible to investigate the outcome of an interference of the system. It may give out some hints on how to ameliorate the damage caused by innate immune response. It would be very hard for other methods to model this heterogeneous and non-linear system.\n",
      "\n",
      "In an agent-based model to describe the system behavior in SIRS/MOF$^{[1]}$, different responses corresponding the severity of initial state of infection were observed and outcomes of clinical trials for anti-cytokine treatment were successfully predicted. However, the fact that all the clinical trials were unsuccessful may suggest that better drug targets are need for SIRS/MOF. Here we rebuild the model that enabled us to explore the outcome of potential countermeasures for SIRS/MOF. This model follows An's assumptions and rules to guide the behavior of agents. To be specific, inflammation is considered to initiate and propagate at the endothelial-blood interface. Injured endothelial cells are used to represent the system damage and an arbitrary threshold was set to represent the irreversible deterioration leading to death. The core of the model is the states(injure, activate, stick, etc.) and behaviors(move, interact with other cells, produce cytokines and react to cytokines) of cells. Influence of cytokine antibodies and receptor modulators are explicitly implemented in the model to directly modify the concentrations of cytokines in space or change the concentration cells perceive. The model simulates the process and outcome of innate immune response by modeling states and actions of cells, interactions of cell-cytokines and influence of the environment(infection, antibiotic, antibodies and cytokine receptor modulators), so possible drug targets can be identified if any intervention is proven helpful."
     ]
    },
    {
     "cell_type": "markdown",
     "metadata": {},
     "source": [
      "<a id='methods'></a>\n",
      "### Methods\n",
      "As stated in Introduction part, actions of cells, interactions of cell-cytokines and influence of the environment was modeled to simulate the innate immune response. this model concerns different kinds of cells and "
     ]
    },
    {
     "cell_type": "markdown",
     "metadata": {},
     "source": [
      "<a id='code'></a>\n",
      "### Code"
     ]
    },
    {
     "cell_type": "markdown",
     "metadata": {},
     "source": [
      "\n",
      "\n",
      "\n",
      "\n",
      "## Outline\n",
      "* Cells are implemented as mobile or stationary agents according to their type\n",
      "* Concentrations of inflammatory factors are regarded as environment parameters\n",
      "* Cell interactions, inflammatory factors generation, diffusion and elimination are implemented in model method\n",
      "* Oxy deficits and injured number of epithelial cells are used to assess the outcome of the model\n",
      "* Possible interferences including 'inflammatory factors antibody' and 'receptor modulators', are achieved by modifying parameters for medel method\n",
      "* Combinations of interventions can be used\n",
      "* Multiple runs are conducted to get the results of a certain intervention\n",
      "\n",
      "    Detailed description can be found as follows:\n",
      "    \n",
      "### I.Space\n",
      "Two-dimensional sequare grid would be utiliaze to generate the space for this model. Two layers of grids of the same size would be generated. One layer is occupied by stationary epithelial cells (EC) and the other immune cells including PMN, Mono, TH cells etc.\n",
      "\n",
      "### II.Agents\n",
      "\n",
      "#### A. EC\n",
      "* nonmobile agents fixed to one layer grid.\n",
      "* oxy: a label to represent the health status of epithelial cells, deceasing with regard to the some inflammatory factors and infection status.\n",
      "* EC_roll & EC_stick: factors governing interaction with white blood cells(PMNs and Monos).\n",
      "* is_activated: activated EC would increase the value of ec-roll and ec-stick, and produce nodulators including PAF and IL-8\n",
      "* is_injured: When oxy <20, EC is considered injured.\n",
      "* is_dead: When oxy <=0, EC is considered dead and would not react to external stimulations.\n",
      "\n",
      "#### B. PMN\n",
      "* mobile cells moving within two grid spaces per step in normal status\n",
      "* can sense inflammatory factors and move towards them (chemtoxis)\n",
      "* PMN_roll: when moving activated EC with EC-roll >= 3, move slowly\n",
      "* PMN_stick: PMN would stick to the EC and fix it\n",
      "* PMN_burst: After a PMN is stick, it would release cytotox and heal EC; detailed implementation is in model method\n",
      "\n",
      "#### C. Mono\n",
      "* mobile cells moving within two grid spaces per step in normal status\n",
      "* Mono_roll & Mono_stick: similar to PMN, but not necessarily fix EC\n",
      "* is_activated: kinds of inflammatory factors produced by PMN and the probability to heal EC would change with activation state.\n",
      "\n",
      "#### D. TH cells\n",
      "* TH0 cells can differenciate into TH1 and TH2 cells\n",
      "* is_activated: TH1 and TH2 cells just wander around before activation; they produce different inflammatory factors after activation\n",
      "\n",
      "#### E. Institution\n",
      "* 'infection' is regarded as the cause of immune response. It can increase by itself with time and propagate the infection to infection to neighbors.\n",
      "* 'antibiotics' is added to the system after total system damage have reached certain level to directly ameliorate on the 'infection' state.\n",
      "* Interventions are added to the system no earlier than the addition of antibiotics by changing the values for inflammatory factor receptors and their antibodies.\n",
      "\n",
      "### III.Initial Conditions\n",
      "#### A. Cells\n",
      "ECs are sequentially put to one layer of the grids to fully occupy them. Other cells are randomly distributed throughout the other layer of the grid. When a place is drawn where there is already a cell occupies it, keep drawing untill an empty grid is found.\n",
      "#### B. Infection\n",
      "Some random grids are chosen and their corresponding infection value is set to 100.\n",
      "#### C. Inflammatory factors\n",
      "Concentrations of inflammatory factors are initialized as all 0.\n",
      "\n",
      "### IV.Model Parameters\n",
      "* grid_size: the size of space\n",
      "* num_PMN: number of PMN cells\n",
      "* num_Mono: number of Mono cells\n",
      "* num_TH0: number of TH0 cells\n",
      "* num_TH1: number of TH1 cells\n",
      "* num_infection: initial number of infection\n",
      "* antibiotic: potency of antibiotic, which alleviate infection\n",
      "* antibodies for inflammatory factors: directly decrease the concentration of inflammatory factor\n",
      "* inflammatory factors receptor modulators: affect cell reaction\n",
      "* arrays of infection: the extent of infection at every grid\n",
      "* arrays of inflammatory factors: different concentrations of inflammatory factors at different grids for a certain time point\n",
      "* total_oxy: stands for system damage (the smaller total_oxy, the larger damage)\n",
      "* injured_EC: number of injured EC, the other representation of system damage"
     ]
    },
    {
     "cell_type": "markdown",
     "metadata": {},
     "source": []
    },
    {
     "cell_type": "markdown",
     "metadata": {},
     "source": [
      "## Model Overview\n",
      "Behavior of cells and molecules related to innate immune response is simulated by modeling cells as agents that can move, occupy space and have different response to environmental factors (inflammatory factors). Molecules are modeled as environmental parameters that are updated every step with regarding to specific cells that are supposed to generate or eliminate them. The oxidative stress of epithelial cells is regarded as the entire system damage, and the system is considered collapsed if total damage exceeds certain criteria. \u2018antibiotic\u2019 is a regular treatment and it is implemented by deceasing infection directly. This treatment would serve as control. Imaginary treatment including 'inflammatory factors antibody' or 'receptor modulators' serves as additional interference of the model and may directly affect the concentration of molecules (inflammatory factors antibody) or the extent to which cells detect the molecules (receptor modulators). Different interferences/treatments are performed to observe the change to the outcome (oxy status of epithelial cells) or the time till which the system is regarded as collapse."
     ]
    },
    {
     "cell_type": "code",
     "collapsed": false,
     "input": [
      "%matplotlib inline\n",
      "\n",
      "# Standard imports\n",
      "import copy\n",
      "import itertools\n",
      "\n",
      "# Scientific computing imports\n",
      "import numpy as np\n",
      "import math\n",
      "import matplotlib.pyplot as plt\n",
      "import pandas\n",
      "import seaborn; seaborn.set()\n",
      "\n",
      "# Import widget methods\n",
      "from IPython.html.widgets import *"
     ],
     "language": "python",
     "metadata": {},
     "outputs": [],
     "prompt_number": 184
    },
    {
     "cell_type": "markdown",
     "metadata": {},
     "source": [
      "### Parameter Sweeping\n",
      "Antibodies for inflammatory factors would be modeled as directly diminishing the corresponding inflammatory factor by a certain percentage. Receptor modulators give the cell wrong information about environmental concentrations, thus the modified behavior of the cell can alter the outcome of the system.\n",
      "#### Evaluation of System\n",
      "Total oxy deficits and injured number of epithelial cells are used to assess the outcome of the model.\n",
      "#### The initial plan is:\n",
      "* investigate what is the outcome of the simulation by setting the potency of antibody to 0.5 of one inflammatory factor at a time (antibody = 0.5 means after every certain steps, concentration of inflammatory factor is cut half)\n",
      "* investigate what would happen if modulators are set to 0.5 or 1.5, making the cell feel lower or higher concentration of certain inflammatory factor than its real status\n",
      "* if all goes smoothly, other values and the combination of interferences can be combined for possible better results based on what we have observed in the first two steps"
     ]
    },
    {
     "cell_type": "markdown",
     "metadata": {},
     "source": [
      "### Class for different kinds of cells\n",
      "* When two different kinds of cells have the same kind of receptor, it is reasonable to assume receptor modulators would act on both cell types. So it is more reasonable to treat receptor modulator as a global parameter of the model class instead of model them in individual cell classes."
     ]
    },
    {
     "cell_type": "code",
     "collapsed": false,
     "input": [
      "# Class of epithelial cells\n",
      "class EC(object):\n",
      "    def __init__(self, model, EC_id, oxy = 100, is_injured = False, is_dead = False,\n",
      "                 is_activated = False, EC_roll = 0, EC_stick = 0):\n",
      "        '''\n",
      "        Constructor for EC class. \n",
      "        By default, healthy ECs are initialtate with full oxy and empty EC_roll and EC_stick, \n",
      "        not in dead, injured or activation mode.'''\n",
      "        # Set model link and ID\n",
      "        self.model = model\n",
      "        self.EC_id = EC_id\n",
      "\n",
      "        # Set EC parameters\n",
      "        self.oxy = oxy\n",
      "        self.is_injured = is_injured\n",
      "        self.is_dead = is_dead\n",
      "        self.is_activated = is_activated\n",
      "        self.EC_roll = EC_roll\n",
      "        self.EC_stick = EC_stick\n",
      "\n",
      "    # get their own position from the model\n",
      "    def get_position(self):\n",
      "        return self.model.get_EC_position(self.EC_id)\n",
      "\n",
      "    # PMN and Mono can heal EC\n",
      "    def heal_EC(self):\n",
      "        self.oxy = 100\n",
      "        self.is_injured = False\n",
      "        self.is_dead = False\n",
      "        self.is_activated = False\n",
      "        self.EC_roll = 0\n",
      "        self.EC_stick = 0\n",
      "\n",
      "    # set the status of dead EC cell\n",
      "    def dead_EC(self):\n",
      "        self.oxy = 0\n",
      "        self.is_dead = True\n",
      "        self.is_activated = False\n",
      "        self.is_injured = True\n",
      "        self.EC_roll = 3\n",
      "        self.EC_stick = 100\n",
      "\n",
      "\n",
      "    def __repr__(self):\n",
      "        '''\n",
      "        Return string representation.\n",
      "        '''\n",
      "        skip_none = True\n",
      "        repr_string = type(self).__name__ + ' ['\n",
      "        except_list = 'model'\n",
      "        \n",
      "        elements = [e for e in dir(self) if str(e) not in except_list]\n",
      "        for e in elements:\n",
      "            if not e.startswith(\"_\") and eval('type(self.{0}).__name__'.format(e)) not in ['DataFrame', 'function', 'method', 'builtin_function_or_method', 'module',\n",
      "             'instancemethod']:\n",
      "                value = eval('self.' + e)\n",
      "                if value != None and skip_none == True:\n",
      "                    repr_string += '{0}={1}, '.format(e, value)\n",
      "        return repr_string.strip(' ').strip(',') + ']'"
     ],
     "language": "python",
     "metadata": {},
     "outputs": [],
     "prompt_number": 185
    },
    {
     "cell_type": "code",
     "collapsed": false,
     "input": [
      "class PMN(object):\n",
      "    def __init__(self, model, PMN_id, PMN_stick = 0, is_PMN_roll = False, is_PMN_stick = False, is_PMN_burst = False,\n",
      "                 move_distance = 2):\n",
      "        # link model to agent\n",
      "        self.model = model\n",
      "        self.PMN_id = PMN_id\n",
      "\n",
      "        # set PMN parameters\n",
      "        self.PMN_stick = PMN_stick\n",
      "        self.is_PMN_roll = is_PMN_roll\n",
      "        self.is_PMN_stick = is_PMN_stick\n",
      "        self.is_PMN_burst = is_PMN_burst\n",
      "        self.move_distance = move_distance\n",
      "\n",
      "    # get PMN position\n",
      "    def get_position(self):\n",
      "        return self.model.get_cell_position(self.PMN_id)\n",
      "    \n",
      "    def set_move_distance(self):\n",
      "        if(self.is_PMN_stick):\n",
      "            self.move_distance = 0\n",
      "        elif(self.is_PMN_roll):\n",
      "            self.move_distance = 1\n",
      "        else:\n",
      "            self.move_distance = 2\n",
      "\n",
      "    def __repr__(self):\n",
      "        skip_none = True\n",
      "        repr_string = type(self).__name__ + '['\n",
      "        except_list = 'model'\n",
      "        elements = [e for e in dir(self) if str(e) not in except_list]\n",
      "        for e in elements:\n",
      "            if not e.startswith(\"_\") and eval('type(self.{0}).__name__'.format(e)) not in ['DataFrame', 'function', 'method', 'builtin_function_or_method', 'module',\n",
      "             'instancemethod']:\n",
      "                value = eval('self.' + e)\n",
      "                if value != None and skip_none == True:\n",
      "                    repr_string += '{0}={1}, '.format(e, value)\n",
      "        return repr_string.strip(' ').strip(',') + ']'"
     ],
     "language": "python",
     "metadata": {},
     "outputs": [],
     "prompt_number": 186
    },
    {
     "cell_type": "code",
     "collapsed": false,
     "input": [
      "class Mono(object):\n",
      "    def __init__(self, model, Mono_id, is_Mono_roll = False, is_Mono_stick = False, is_Mono_activated = False,\n",
      "                 move_distance = 2):\n",
      "        # link model to agent\n",
      "        self.model = model\n",
      "        self.Mono_id = Mono_id\n",
      "        self.is_Mono_roll = is_Mono_roll\n",
      "        self.is_Mono_stick = is_Mono_stick\n",
      "        self.is_Mono_activated = is_Mono_activated\n",
      "        self.move_distance = move_distance\n",
      "\n",
      "    def get_position(self):\n",
      "        return self.model.get_cell_position(self.Mono_id)\n",
      "\n",
      "    def set_move_distance(self):\n",
      "        if(self.is_Mono_stick):\n",
      "            self.move_distance = 0\n",
      "        elif(self.is_Mono_roll):\n",
      "            self.move_distance = 1\n",
      "        else:\n",
      "            self.move_distance = 2\n",
      "            \n",
      "    def __repr__(self):\n",
      "        skip_none = True\n",
      "        repr_string = type(self).__name__ + '['\n",
      "        except_list = 'model'\n",
      "        elements = [e for e in dir(self) if str(e) not in except_list]\n",
      "        for e in elements:\n",
      "            if not e.startswith(\"_\") and eval('type(self.{0}).__name__'.format(e)) not in ['DataFrame', 'function', 'method', 'builtin_function_or_method', 'module',\n",
      "             'instancemethod']:\n",
      "                value = eval('self.' + e)\n",
      "                if value != None and skip_none == True:\n",
      "                    repr_string += '{0}={1}, '.format(e, value)\n",
      "        return repr_string.strip(' ').strip(',') + ']'"
     ],
     "language": "python",
     "metadata": {},
     "outputs": [],
     "prompt_number": 187
    },
    {
     "cell_type": "code",
     "collapsed": false,
     "input": [
      "class TH(object):\n",
      "    def __init__(self, model, TH_id, is_differentiated = False, is_TH1 = False, is_TH2 = False, activation = 0,\n",
      "                 is_activated = False):\n",
      "        self.model = model\n",
      "        self.TH_id = TH_id\n",
      "        self.is_differentiated = is_differentiated\n",
      "        self.is_TH1 = is_TH1\n",
      "        self.is_TH2 = is_TH2\n",
      "        # activation is a number controlling which kind of cell TH would differentiate into\n",
      "        self.activation = activation\n",
      "        self.is_activated = is_activated\n",
      "\n",
      "    def get_position(self):\n",
      "        return self.model.get_cell_position(self.TH_id)\n",
      "\n",
      "    def __repr__(self):\n",
      "        skip_none = True\n",
      "        repr_string = type(self).__name__ + '['\n",
      "        except_list = 'model'\n",
      "        elements = [e for e in dir(self) if str(e) not in except_list]\n",
      "        for e in elements:\n",
      "            if not e.startswith(\"_\") and eval('type(self.{0}).__name__'.format(e)) not in ['DataFrame', 'function', 'method', 'builtin_function_or_method', 'module',\n",
      "             'instancemethod']:\n",
      "                value = eval('self.' + e)\n",
      "                if value != None and skip_none == True:\n",
      "                    repr_string += '{0}={1}, '.format(e, value)\n",
      "        return repr_string.strip(' ').strip(',') + ']'"
     ],
     "language": "python",
     "metadata": {},
     "outputs": [],
     "prompt_number": 188
    },
    {
     "cell_type": "markdown",
     "metadata": {},
     "source": [
      "### Model"
     ]
    },
    {
     "cell_type": "code",
     "collapsed": false,
     "input": [
      "class Model(object):\n",
      "    def __init__(self, grid_size = 101, num_PMN = 500, num_Mono = 50, \n",
      "                 num_TH0 = 100, num_TH1 = 50, num_infection = 5, antibiotic = 1, endotoxin_antibody = 1, \n",
      "                 cytotox_antibody = 1, PAF_antibody = 1, IL_8_antibody = 1, TNF_antibody = 1, IL_1_antibody = 1, IL_1ra_antibody = 1,\n",
      "                 GCSF_antibody = 1, IL_10_antibody = 1, IL_12_antibody = 1, IFN_g_antibody = 1, IL_4_antibody = 1, \n",
      "                 endotoxin_receptor = 1, PAF_receptor = 1, IL_8_receptor = 1, TNF_receptor = 1, IL_1_receptor = 1, IL_1ra_receptor = 1,\n",
      "                 IL_10_receptor = 1, IL_12_receptor = 1, IFN_g_receptor = 1, IL_4_receptor = 1, diffusion_rate = 0):\n",
      "        '''class constructor'''\n",
      "        # set model parameter\n",
      "        self.grid_size = grid_size\n",
      "        self.num_PMN = num_PMN\n",
      "        self.num_Mono = num_Mono\n",
      "        self.num_TH0 = num_TH0\n",
      "        self.num_TH1 = num_TH1\n",
      "        self.num_infection = num_infection\n",
      "        self.antibiotic = antibiotic\n",
      "        self.endotoxin_antibody = endotoxin_antibody\n",
      "        self.cytotox_antibody = cytotox_antibody\n",
      "        self.PAF_antibody = PAF_antibody\n",
      "        self.IL_8_antibody = IL_8_antibody\n",
      "        self.TNF_antibody = TNF_antibody\n",
      "        self.IL_1_antibody = IL_1_antibody\n",
      "        self.IL_1ra_antibody = IL_1ra_antibody\n",
      "        self.GCSF_antibody = GCSF_antibody\n",
      "        self.IL_10_antibody = IL_10_antibody\n",
      "        self.IL_12_antibody = IL_12_antibody\n",
      "        self.IFN_g_antibody = IFN_g_antibody\n",
      "        self.IL_4_antibody = IL_4_antibody\n",
      "        self.endotoxin_receptor = endotoxin_receptor\n",
      "        self.PAF_receptor = PAF_receptor\n",
      "        self.IL_8_receptor = IL_8_receptor\n",
      "        self.TNF_receptor = TNF_receptor\n",
      "        self.IL_1_receptor = IL_1_receptor\n",
      "        self.IL_1ra_receptor = IL_1ra_receptor\n",
      "        self.IL_10_receptor = IL_10_receptor\n",
      "        self.IL_12_receptor = IL_12_receptor\n",
      "        self.IFN_g_receptor = IFN_g_receptor\n",
      "        self.IL_4_receptor = IL_4_receptor\n",
      "\n",
      "        # set diffusion rate\n",
      "        # diffusion rate = 0 means there is no diffusion\n",
      "        self.diffusion_rate = diffusion_rate\n",
      "\n",
      "        # set state variable and others\n",
      "        self.num_EC = self.grid_size**2\n",
      "        self.num_TH2 = self.num_TH1\n",
      "        # step number\n",
      "        self.t = 0\n",
      "        # Two layers of grids for EC and other cells\n",
      "        self.space_EC = np.array((0,0))\n",
      "        self.space_cell = np.array((0,0))\n",
      "\n",
      "        # list of cell ids\n",
      "        self.ECs = []\n",
      "        self.PMNs = []\n",
      "        self.Monos = []\n",
      "        self.THs = []\n",
      "\n",
      "        # matrix of infection\n",
      "        self.infection = np.array((0,0))\n",
      "        # matrix of oxy\n",
      "        self.oxy_array = np.array((0,0))\n",
      "        # matrix of inflammatory factors\n",
      "        self.endotoxin = np.array((0,0))\n",
      "        self.cytotox = np.array((0,0))\n",
      "        self.PAF = np.array((0,0))\n",
      "        self.IL_8 = np.array((0,0))\n",
      "        self.TNF = np.array((0,0))\n",
      "        self.IL_1 = np.array((0,0))\n",
      "        self.IL_1ra = np.array((0,0))\n",
      "        self.GCSF = np.array((0,0))\n",
      "        self.IL_10 = np.array((0,0))\n",
      "        self.IL_12 = np.array((0,0))\n",
      "        self.IFN_g = np.array((0,0))\n",
      "        self.IL_4 = np.array((0,0))\n",
      "\n",
      "        # parameters to record total system damage\n",
      "        self.injured_EC = 0\n",
      "        self.total_oxy = 0\n",
      "        self.system_damage = 0\n",
      "\n",
      "        # set history parameters\n",
      "        self.history_injured_EC = []\n",
      "        self.history_total_oxy = []\n",
      "        self.history_system_damage = []\n",
      "\n",
      "        # call setup methods to initialize space, agents and other environmental parameter\n",
      "        self.setup_space()\n",
      "        self.create_agents()\n",
      "        self.setup_infection(self.num_infection)\n",
      "        self.setup_inflammation_factor()\n",
      "\n",
      "    def setup_space(self):\n",
      "        # method to setup space\n",
      "        # initialize two layers of grid with NaNs\n",
      "        self.space_EC = np.full((self.grid_size, self.grid_size), np.nan)\n",
      "        self.space_cell = np.full((self.grid_size, self.grid_size), np.nan)\n",
      "\n",
      "    def create_agents(self):\n",
      "        # Create EC cells and put them sequentially in self.space_EC\n",
      "        for i in xrange(self.num_EC):\n",
      "            self.ECs.append(EC(model = self, EC_id = i, oxy = 100, is_injured = False, \n",
      "                               is_dead = False, is_activated = False, EC_roll = 0, EC_stick = 0))\n",
      "\n",
      "        for every_EC in self.ECs:\n",
      "            self.space_EC[every_EC.EC_id/self.grid_size, every_EC.EC_id%self.grid_size] = every_EC.EC_id\n",
      "\n",
      "        # Create other mobile cells and put them in self.space_cell\n",
      "        # Their ids are set to grid_size**2*n +i, so that different kinds of cells can be differentiated\n",
      "        # For PMN, n = 0\n",
      "        for i in xrange(self.num_PMN):\n",
      "            self.PMNs.append(PMN(model = self, PMN_id = i, is_PMN_roll = False, \n",
      "                                 is_PMN_stick = False))\n",
      "        # For Mono, n = 1\n",
      "        for i in xrange(self.num_Mono):\n",
      "            self.Monos.append(Mono(model = self, Mono_id = self.grid_size**2+i, is_Mono_roll = False,\n",
      "                                   is_Mono_stick = False, is_Mono_activated = False))\n",
      "        # For TH, n = 2\n",
      "        for i in xrange(self.num_TH0):\n",
      "            self.THs.append(TH(model = self, TH_id = 2*self.grid_size**2+i, is_differentiated = False,\n",
      "                               is_TH1 = False, is_TH2 = False, is_activated = False))\n",
      "        # For TH1 and TH2 cells, their ids need to be added the number of existing TH cells\n",
      "        # creation of TH1 cells\n",
      "        for i in xrange(self.num_TH1):\n",
      "            self.THs.append(TH(model = self, TH_id = 2*self.grid_size**2+i+self.num_TH0, \n",
      "                               is_differentiated = True, is_TH1 = True, is_TH2 = False))\n",
      "        # creation of TH2 cells\n",
      "        for i in xrange(self.num_TH2):\n",
      "            self.THs.append(TH(model = self, TH_id = 2*self.grid_size**2+i+self.num_TH0+self.num_TH1,\n",
      "                               is_differentiated = True, is_TH1 = False, is_TH2 = True))\n",
      "\n",
      "        # Put PMN, Mono, TH cells into grid if its value is nan\n",
      "        for every_PMN in self.PMNs:\n",
      "            is_occupied = True\n",
      "            while is_occupied:\n",
      "                random_x = np.random.randint(0,self.grid_size)\n",
      "                random_y = np.random.randint(0,self.grid_size)\n",
      "                if np.isnan(self.space_cell[random_x,random_y]):\n",
      "                    is_occupied = False\n",
      "                else:\n",
      "                    is_occupied = True\n",
      "            self.space_cell[random_x,random_y] = every_PMN.PMN_id\n",
      "\n",
      "        for every_Mono in self.Monos:\n",
      "            is_occupied = True\n",
      "            while is_occupied:\n",
      "                random_x = np.random.randint(0,self.grid_size)\n",
      "                random_y = np.random.randint(0,self.grid_size)\n",
      "                if np.isnan(self.space_cell[random_x,random_y]):\n",
      "                    is_occupied = False\n",
      "                else:\n",
      "                    is_occupied = True\n",
      "            self.space_cell[random_x,random_y] = every_Mono.Mono_id\n",
      "\n",
      "        for every_TH in self.THs:\n",
      "            is_occupied = True\n",
      "            while is_occupied:\n",
      "                random_x = np.random.randint(0,self.grid_size)\n",
      "                random_y = np.random.randint(0,self.grid_size)\n",
      "                if np.isnan(self.space_cell[random_x,random_y]):\n",
      "                    is_occupied = False\n",
      "                else:\n",
      "                    is_occupied = True\n",
      "            self.space_cell[random_x,random_y] = every_TH.TH_id\n",
      "\n",
      "\n",
      "    def setup_infection(self, infection_num):\n",
      "        # Initialize infection to be a 2D array of grid_size ** 2\n",
      "        self.infection = np.full((self.grid_size, self.grid_size), 0)\n",
      "        # Randomly pick certain numbers of non-redundant grids to simulate initial infection status\n",
      "        for i in xrange(infection_num):\n",
      "            is_infected = True\n",
      "            while is_infected:\n",
      "                random_x = np.random.randint(0,self.grid_size)\n",
      "                random_y = np.random.randint(0,self.grid_size)\n",
      "                if(self.infection[random_x, random_y] < 30):\n",
      "                    is_infected = False\n",
      "                else:\n",
      "                    is_infected = True\n",
      "            self.infection[random_x, random_y] = 100\n",
      "\n",
      "    def setup_inflammation_factor(self):\n",
      "        self.oxy_array = np.full((self.grid_size, self.grid_size), 0)\n",
      "        self.endotoxin = np.full((self.grid_size, self.grid_size), 0)\n",
      "        self.cytotox = np.full((self.grid_size, self.grid_size), 0)\n",
      "        self.PAF = np.full((self.grid_size, self.grid_size), 0)\n",
      "        self.IL_8 = np.full((self.grid_size, self.grid_size), 0)\n",
      "        self.TNF = np.full((self.grid_size, self.grid_size), 0)\n",
      "        self.IL_1 = np.full((self.grid_size, self.grid_size), 0)\n",
      "        self.IL_1ra = np.full((self.grid_size, self.grid_size), 0)\n",
      "        self.GCSF = np.full((self.grid_size, self.grid_size), 0)\n",
      "        self.IL_10 = np.full((self.grid_size, self.grid_size), 0)\n",
      "        self.IL_12 = np.full((self.grid_size, self.grid_size), 0)\n",
      "        self.IFN_g = np.full((self.grid_size, self.grid_size), 0)\n",
      "        self.IL_4 = np.full((self.grid_size, self.grid_size), 0)\n",
      "        \n",
      "    def get_EC_position(self, EC_id):\n",
      "        # get the position of an EC given its id\n",
      "        return np.reshape(np.where(self.space_EC == EC_id), (1,2))[0].tolist()\n",
      "        \n",
      "    def get_cell_position(self, cell_id):\n",
      "        # get the position of a PMN given PMN_id\n",
      "        return np.reshape(np.where(self.space_cell == cell_id), (1,2))[0].tolist()\n",
      "\n",
      "    def get_correponding_EC_id(self, cell_position):\n",
      "        # given the position of a cell, find the EC_id of EC in the same position in the space_ec\n",
      "        x, y = cell_position\n",
      "        return self.space_EC[x,y]\n",
      "    \n",
      "    def get_neighbor_pos_list(self, position, distance):\n",
      "        # get the list of neighboring positions within given distance \n",
      "        x,y = position\n",
      "        neighbor_pos_list = [ [x % self.grid_size, y % self.grid_size]\n",
      "                for x, y in itertools.product(xrange(x-distance, x+distance+1),\n",
      "                                              xrange(y-distance, y+distance+1))]\n",
      "        return neighbor_pos_list\n",
      "        \n",
      "        \n",
      "    def update_total_oxy(self):\n",
      "        # update the oxy array and total_oxy according to the status of every EC\n",
      "        self.total_oxy = 0\n",
      "        self.injured_EC = 0\n",
      "        for every_EC in self.ECs:\n",
      "            x,y = every_EC.get_position()\n",
      "            self.oxy_array[x,y] = every_EC.oxy\n",
      "            if(every_EC.is_injured | every_EC.is_dead):\n",
      "                self.injured_EC += 1\n",
      "        self.total_oxy = np.sum(self.oxy_array)\n",
      "        self.system_damage = 1 - self.total_oxy/self.grid_size**2/100\n",
      "                \n",
      "    def inflammation_factor_diffusion(self, IF_array):\n",
      "        # diffusion of inflammation factors\n",
      "        tmp_calc = np.zeros((self.grid_size+2, self.grid_size+2))\n",
      "        dx = 1\n",
      "        dy = 1\n",
      "        tmp_calc[1:-1,1:-1] = IF_array.copy()\n",
      "        tmp_store = np.zeros((self.grid_size, self.grid_size))\n",
      "        tmp_store = tmp_calc[1:-1,1:-1] + self.diffusion_rate/dx**2*(tmp_calc[2:,1:-1]-2*tmp_calc[1:-1,1:-1]+tmp_calc[0:-2,1:-1])+self.diffusion_rate/dy**2*(tmp_calc[1:-1,2:]-2*tmp_calc[1:-1,1:-1]+tmp_calc[1:-1,0:-2])\n",
      "        return tmp_store\n",
      "\n",
      "        \n",
      "    def infection_diffusion(self):\n",
      "        # diffusion of infection\n",
      "        # if the value of a grid is or more than 100, its Moore neighborhood increased by 1\n",
      "        # initialize a matrix to record for every grid, how many neighborhood it has with a value greater or equal to 100\n",
      "        # then update the value\n",
      "        tmp_inf = np.zeros((self.grid_size, self.grid_size))\n",
      "        for i in xrange(self.grid_size):\n",
      "            for j in xrange(self.grid_size):\n",
      "                neighbors = self.get_neighbor_pos_list([i,j],1)\n",
      "                neighbors.pop(4)\n",
      "                for neighbor in neighbors:\n",
      "                    x,y = neighbor\n",
      "                    if(self.infection[x,y] >= 100):\n",
      "                        tmp_inf[i,j] = tmp_inf[i,j] + 1\n",
      "        tmp_record = tmp_inf + self.infection\n",
      "        for i in xrange(self.grid_size):\n",
      "            for j in xrange(self.grid_size):\n",
      "                if(tmp_record[i,j] != 0):\n",
      "                    tmp_record[i,j] = tmp_record[i,j] + 0.1\n",
      "                if(tmp_record[i,j] > 100):\n",
      "                    tmp_record[i,j] = 100\n",
      "        self.infection = tmp_record.copy()\n",
      "\n",
      "        \n",
      "    def update_cell_status(self, infection_array, endotoxin_array, cytotox_array, TNF_array, PAF_array, IL_1_array, IL_10_array, IFN_g_array, IL_4_array, IL_12_array):\n",
      "        # Update the status of cells and the consequence of their interactions\n",
      "        # Update oxy for alive EC cells\n",
      "        # ischemia and infarction can influence neighboring cells\n",
      "        tmp_oxy = np.zeros((self.grid_size, self.grid_size))\n",
      "        for i in xrange(self.grid_size):\n",
      "            for j in xrange(self.grid_size):\n",
      "                neighbors = self.get_neighbor_pos_list([i,j],1)\n",
      "                # pop itself location\n",
      "                neighbors.pop(4)\n",
      "                for neighbor in neighbors:\n",
      "                    x,y = neighbor\n",
      "                    if(self.oxy_array[x,y] <= 30):\n",
      "                        tmp_oxy[i,j] = tmp_oxy[i,j] + 0.25\n",
      "                    elif(self.oxy_array[x,y] < 60):\n",
      "                        tmp_oxy[i,j] = tmp_oxy[i,j] + 0.05\n",
      "                    else:\n",
      "                        continue\n",
      "        \n",
      "        # For dead EC cells, make sure their parameters accord with the dead status\n",
      "        for every_EC in self.ECs:\n",
      "            # get or change the status\n",
      "            if(every_EC.is_dead):\n",
      "                every_EC.dead_EC()\n",
      "                continue\n",
      "            else:\n",
      "                # update oxy value\n",
      "                x, y = every_EC.get_position()\n",
      "                every_EC.oxy = every_EC.oxy - infection_array[x,y] - cytotox_array[x,y] - tmp_oxy[x,y]\n",
      "                # Update is_injured state\n",
      "                if(every_EC.oxy<20):\n",
      "                    every_EC.is_injured = True\n",
      "                else:\n",
      "                    every_EC.is_injured = False\n",
      "                # If cell is dying, update dead status\n",
      "                if(every_EC.oxy<=0):\n",
      "                    every_EC.dead_EC()\n",
      "                    continue\n",
      "                # For activated EC, update EC-roll and EC-stick\n",
      "                # For unactivated EC, check to see if they are going to be activated\n",
      "                # EC_stick would be set to 100 as long as oxy <= 30\n",
      "                else:\n",
      "                    if(every_EC.is_activated):\n",
      "                        every_EC.EC_roll += 1\n",
      "                        every_EC.EC_stick += 1\n",
      "                    else:\n",
      "                    # activation condition\n",
      "                        if((endotoxin_array[x,y] >=1) or (every_EC.oxy < 60)):\n",
      "                            every_EC.is_activated = True\n",
      "                    if(every_EC.oxy <= 30):\n",
      "                        every_EC.EC_stick = 100\n",
      "                        \n",
      "        # Update PMN status and actions\n",
      "        for every_PMN in self.PMNs:\n",
      "            x,y = every_PMN.get_position()\n",
      "            # Get its correponding EC\n",
      "            corresponding_EC = self.ECs[int(self.get_correponding_EC_id([x,y]))]\n",
      "            # Update its roll, stick, burst status\n",
      "            if(corresponding_EC.EC_roll>=3):\n",
      "                every_PMN.is_PMN_roll = True\n",
      "            else:\n",
      "                every_PMN.is_PMN_roll = False\n",
      "                every_PMN.PMN_stick = 0\n",
      "            if(every_PMN.is_PMN_roll):\n",
      "                if((TNF_array[x,y] > 0) & (PAF_array[x,y] >0)):\n",
      "                    every_PMN.PMN_stick = IL_1_array[x,y] * self.IL_1_receptor\n",
      "                    self.IL_1ra[x,y] += 1\n",
      "                else:\n",
      "                    every_PMN.PMN_stick = 0\n",
      "            if((every_PMN.PMN_stick>=1) & (corresponding_EC.EC_stick>=100)):\n",
      "                every_PMN.is_PMN_stick = True\n",
      "                # Required condition for PMN-burst, if in PMN-burst, it can heal EC\n",
      "                if(TNF_array[x,y] * self.TNF_receptor + IL_1_array[x,y]* self.IL_1_receptor - IL_10_array[x,y] * self.IL_10_receptor>0):\n",
      "                    every_PMN.is_PMN_burst = True\n",
      "                    corresponding_EC.heal_EC()\n",
      "                else:\n",
      "                    every_PMN.is_PMN_burst = False\n",
      "            else:\n",
      "                every_PMN.is_PMN_stick = False\n",
      "                every_PMN.is_PMN_burst = False\n",
      "            every_PMN.set_move_distance()\n",
      "        \n",
      "        for every_Mono in self.Monos:\n",
      "            x,y = every_Mono.get_position()\n",
      "            # Get its correponding EC\n",
      "            corresponding_EC = self.ECs[int(self.get_correponding_EC_id([x,y]))]\n",
      "            # Set its roll, stick, activate state\n",
      "            if(corresponding_EC.EC_roll >= 3):\n",
      "                every_Mono.is_Mono_roll = True\n",
      "            else:\n",
      "                every_Mono.is_Mono_roll = False\n",
      "            tmp = 0\n",
      "            if((TNF_array[x,y] > 0) & (PAF_array[x,y] >0)):\n",
      "                    tmp = IL_1_array[x,y] * self.IL_1_receptor\n",
      "            # If in Mono-stick state, there is a chance of 50% to heal the EC\n",
      "            if((tmp >= 1) & (corresponding_EC.EC_stick>=100)):\n",
      "                every_Mono.is_Mono_stick = True\n",
      "            else:\n",
      "                every_Mono.is_Mono_stick = False\n",
      "            if(PAF_array[x,y]*self.PAF_receptor+endotoxin_array[x,y]*self.endotoxin_receptor+IFN_g_array[x,y]*self.IFN_g_receptor-IL_10_array[x,y]*self.IL_10_receptor > 0):\n",
      "                every_Mono.is_Mono_activated = True\n",
      "                if(every_Mono.is_Mono_stick):\n",
      "                    corresponding_EC.heal_EC()\n",
      "            else:\n",
      "                every_Mono.is_Mono_activated = False\n",
      "                if(every_Mono.is_Mono_stick & (np.random.random()<0.5)):\n",
      "                    corresponding_EC.heal_EC()\n",
      "            every_Mono.set_move_distance()\n",
      "\n",
      "        \n",
      "        for every_TH in self.THs:\n",
      "            x,y = every_TH.get_position()\n",
      "            if(every_TH.is_differentiated == False):\n",
      "                every_TH.is_activated = False\n",
      "                tmp = IL_12_array[x,y]*self.IL_12_receptor + IFN_g_array[x,y]*self.IFN_g_receptor - IL_4_array[x,y]*self.IL_4_receptor - IL_10_array[x,y]*self.IL_10_receptor\n",
      "                if(tmp>0):\n",
      "                    every_TH.activation += 1\n",
      "                if(tmp<0):\n",
      "                    every_TH.activation += -1\n",
      "                if(every_TH.activation >= 10):\n",
      "                    every_TH.is_differentiated = True\n",
      "                    every_TH.is_TH1 = True\n",
      "                if(every_TH.activation >= 10):\n",
      "                    every_TH.is_differentiated = True\n",
      "                    every_TH.is_TH2 = True\n",
      "            else:\n",
      "                if(every_TH.is_TH1 == True):\n",
      "                    if(IL_12_array[x,y]>0):\n",
      "                        every_TH.is_activated = True\n",
      "                    else:\n",
      "                        every_TH.is_activated = False\n",
      "                else:\n",
      "                    if(IL_10_array[x,y]>0):\n",
      "                        every_TH.is_activated = True\n",
      "                    else:\n",
      "                        every_TH.is_activated = False\n",
      "                    \n",
      "    def update_inflammation_factor(self, infection_array, PAF_array, endotoxin_array, cytotox_array, IL_8_array, \n",
      "                                   TNF_array, IL_1_array, IL_10_array, IL_12_array, IFN_g_array, IL_1ra_array):\n",
      "        # Update the concentration of factors for each grid based on the history from last step\n",
      "        # infection is reduced by cytotox_array\n",
      "        self.infection = self.infection - cytotox_array\n",
      "        for i in xrange(self.grid_size):\n",
      "            for j in xrange(self.grid_size):\n",
      "                if(self.infection[i,j]>100):\n",
      "                    self.infection[i,j] = 100\n",
      "                if(self.infection[i,j]<0):\n",
      "                    self.infection[i,j] = 0\n",
      "\n",
      "        # endotoxin = 1/10*infection\n",
      "        self.endotoxin += 0.1*infection_array\n",
      "\n",
      "        # The concentrations of inflammatory factors cells detect can be different from real world\n",
      "        # Cells make dicisions based on the concentration they have detected\n",
      "        # activated EC would increase PAF and IL_8\n",
      "        for every_EC in self.ECs:\n",
      "            if every_EC.is_activated:\n",
      "                x,y = every_EC.get_position()\n",
      "                self.PAF[x,y] += 1\n",
      "                self.IL_8[x,y] += IL_8_array[x,y]* self.IL_8_receptor + TNF_array[x,y] * self.TNF_receptor + IL_1_array[x,y] * self.IL_1_receptor\n",
      "            else:\n",
      "                continue\n",
      "        \n",
      "        # PMN would increase TNF and IL_1; burst PMN could increase cytotox\n",
      "        for every_PMN in self.PMNs:\n",
      "            x,y = every_PMN.get_position()\n",
      "            self.TNF[x,y] += 1\n",
      "            self.IL_1[x,y] += 1\n",
      "            if(every_PMN.is_PMN_burst):\n",
      "                self.cytotox[x,y] += max(10,TNF_array[x,y]*self.TNF_receptor)\n",
      "        \n",
      "        for every_Mono in self.Monos:\n",
      "            x,y = every_Mono.get_position()\n",
      "            self.IL_1ra[x,y] += IL_1ra_array[x,y]*self.IL_1ra_receptor + IL_1_array[x,y]*self.IL_1_receptor*0.5\n",
      "            # Activated Mono would also increase GCSF, IL_8, IL_12, IL_1 and TNF; inactivate would update IL_10\n",
      "            if(every_Mono.is_Mono_activated):\n",
      "                self.GCSF[x,y] += 0.25*(endotoxin_array[x,y] * self.endotoxin_receptor + IL_1_array[x,y] * self.IL_1_receptor + TNF_array[x,y] * self.TNF_receptor + IFN_g_array[x,y] * self.IFN_g_receptor)\n",
      "                self.IL_8[x,y] += TNF_array[x,y] * self.TNF_receptor + IL_1_array[x,y] * self.IL_1_receptor\n",
      "                self.IL_12[x,y] += 0.5*(TNF_array[x,y] * self.TNF_receptor + IL_1_array[x,y] * self.IL_1_receptor)\n",
      "                self.IL_1[x,y] += endotoxin_array[x,y] * self.endotoxin_receptor + PAF_array[x,y]* self.PAF_receptor + IL_1ra_array[x,y] * self.IL_1ra_receptor\n",
      "                self.TNF[x,y] += endotoxin_array[x,y] * self.endotoxin_receptor + PAF_array[x,y]* self.PAF_receptor + TNF_array[x,y] * self.TNF_receptor + IFN_g_array[x,y] * self.IFN_g_receptor\n",
      "            else:\n",
      "                self.IL_10[x,y] += 0.5*(TNF_array[x,y] * self.TNF_receptor + IL_1_array[x,y] * self.IL_1_receptor)\n",
      "        \n",
      "        for every_TH in self.THs:\n",
      "            x,y = every_TH.get_position()\n",
      "            # Activeated TH1 cells update IL_12 and IFN_g\n",
      "            if(every_TH.is_TH1 & every_TH.is_activated):\n",
      "                if(IL_12_array[x,y]>0):\n",
      "                    self.IFN_g[x,y] += IL_12_array[x,y]* self.IL_12_receptor + TNF_array[x,y] * self.TNF_receptor + IL_1_array[x,y] * self.IL_1_receptor\n",
      "                    self.IL_12[x,y] += IL_12_array[x,y] * self.IL_12_receptor\n",
      "            # Activeated TH2 cells update IL_4 and IL_10\n",
      "            elif(every_TH.is_TH2 & every_TH.is_activated):\n",
      "                if(IL_10_array[x,y]>0):\n",
      "                    self.IL_4[x,y] += IL_10_array[x,y] * self.IL_10_receptor\n",
      "                    self.IL_10[x,y] += IL_10_array[x,y] * self.IL_10_receptor\n",
      "            else:\n",
      "                continue\n",
      "        if(np.max(self.cytotox)>100):\n",
      "            self.cytotox *= 0.5\n",
      "        if(np.max(self.endotoxin)>100):\n",
      "            self.endotoxin *= 0.5\n",
      "        if(np.max(self.PAF)>100):\n",
      "            self.PAF *= 0.5\n",
      "        if(np.max(self.IL_8)>100):\n",
      "            self.IL_8 *= 0.5\n",
      "        if(np.max(self.TNF)>100):\n",
      "            self.TNF *= 0.5\n",
      "        if(np.max(self.IL_1)>100):\n",
      "            self.IL_1 *= 0.5\n",
      "        if(np.max(self.GCSF)>100):\n",
      "            self.GCSF *= 0.5\n",
      "        if(np.max(self.IL_10)>100):\n",
      "            self.IL_10 *= 0.5\n",
      "        if(np.max(self.IL_12)>100):\n",
      "            self.IL_12 *= 0.5\n",
      "        if(np.max(self.IFN_g)>100):\n",
      "            self.IFN_g *= 0.5\n",
      "        if(np.max(self.IL_4)>100):\n",
      "            self.IL_4 *= 0.5\n",
      "        if(np.max(self.IL_1ra)>100):\n",
      "            self.IL_1ra *= 0.5\n",
      "                \n",
      "    def move_cells(self):\n",
      "        # ECs do not move; PMN, Mono, TH cells move\n",
      "        # get the list of cell ids and shuffle it\n",
      "        random_order = range(self.num_PMN)\n",
      "        random_order += range(self.grid_size**2, self.grid_size**2+ self.num_Mono)\n",
      "        random_order += range(self.grid_size**2*2, self.grid_size**2*2 + self.num_TH0 + self.num_TH1 + self.num_TH1)\n",
      "        np.random.shuffle(random_order)\n",
      "        # iterate in random order\n",
      "        for i in random_order:\n",
      "            # if it is a TH cell, then its moving distance is 2\n",
      "            if(i>=self.grid_size**2*2):\n",
      "                x,y = self.get_cell_position(i)\n",
      "                x_new = (x + np.random.randint(-1, 2)) % self.grid_size\n",
      "                y_new = (y + np.random.randint(-1, 2)) % self.grid_size\n",
      "                # If new position not taken, move cell\n",
      "                if np.isnan(self.space_cell[x_new, y_new]):\n",
      "                    self.space_cell[x,y] = np.nan\n",
      "                    self.space_cell[x_new,y_new] = i\n",
      "            # if it is a Mono cell, then we need to find its moving distance\n",
      "            elif(i>=self.grid_size**2):\n",
      "                x,y = self.get_cell_position(i)\n",
      "                old_position = self.get_cell_position(i)\n",
      "                # find its moving distance\n",
      "                distance = self.Monos[i % self.grid_size**2].move_distance\n",
      "                if(distance != 0):\n",
      "                    neighbor_list = self.get_neighbor_pos_list(old_position, distance)\n",
      "                    current_chem = self.PAF[x,y]*self.PAF_receptor\n",
      "                    chemotaxis = []\n",
      "                    for position in neighbor_list:\n",
      "                        x_tmp,y_tmp = position\n",
      "                        chemotaxis.append(self.PAF[x_tmp,y_tmp]*self.PAF_receptor)\n",
      "                    # find the indices of elements in chemotaxis larger than current_chem\n",
      "                    # indices = np.reshape(np.where(chemotaxis > current_chem),(1,-1))[0]\n",
      "                    indices = []\n",
      "                    for j in range(len(chemotaxis)):\n",
      "                        if chemotaxis[j] >= current_chem:\n",
      "                            indices.append(j)\n",
      "                    if len(indices)>0:\n",
      "                        new_chemotaxis = []\n",
      "                        new_neighbor_list = []\n",
      "                        for j in indices:\n",
      "                            new_chemotaxis.append(chemotaxis[j])\n",
      "                            new_neighbor_list.append(neighbor_list[j])\n",
      "                        new_indices = np.argsort(new_chemotaxis)[::-1]\n",
      "                        is_occupied = True\n",
      "                        j = 0\n",
      "                        while is_occupied:\n",
      "                            x_new, y_new = new_neighbor_list[new_indices[j]]\n",
      "                            if(self.space_cell[x_new,y_new] == i):\n",
      "                                break\n",
      "                            elif(np.isnan(self.space_cell[x_new, y_new])):\n",
      "                                self.space_cell[x_new,y_new] = i\n",
      "                                self.space_cell[x,y] = np.nan\n",
      "                                is_occupied = False\n",
      "                                break\n",
      "                            else:\n",
      "                                is_occupied = True\n",
      "                                j = j+1\n",
      "                            if(j >= len(new_indices)):\n",
      "                                break\n",
      "            # if it is a PMN cell, it would go to a grid with higher PAF+endotoxin+IL_8 within the range\n",
      "            else:\n",
      "                # find its moving distance\n",
      "                x,y = self.get_cell_position(i)\n",
      "                old_position = self.get_cell_position(i)\n",
      "                distance = self.PMNs[i].move_distance\n",
      "                # find the sum of inflammation factors for chemotaxis\n",
      "                if(distance != 0):\n",
      "                    neighbor_list = self.get_neighbor_pos_list(old_position, distance)\n",
      "                    current_chem = self.PAF[x,y]*self.PAF_receptor +self.endotoxin[x,y]*self.endotoxin_receptor +self.IL_8[x,y]*self.IL_8_receptor\n",
      "                    chemotaxis = []\n",
      "                    for position in neighbor_list:\n",
      "                        x_tmp,y_tmp = position\n",
      "                        chemotaxis.append(self.PAF[x_tmp,y_tmp]*self.PAF_receptor+self.endotoxin[x_tmp,y_tmp]*self.endotoxin_receptor+self.IL_8[x_tmp,y_tmp]*self.IL_8_receptor)\n",
      "                    # find the indices of elements in chemotaxis larger than current_chem\n",
      "                    # indices = np.reshape(np.where(chemotaxis > current_chem),(1,-1))[0]\n",
      "                    indices = []\n",
      "                    for j in range(len(chemotaxis)):\n",
      "                        if chemotaxis[j] >= current_chem:\n",
      "                            indices.append(j)\n",
      "                    # if length of indices is 0, then current_chem is already the largest in its neighborhood\n",
      "                    if len(indices)>0:\n",
      "                        # get the sub-string of chemotaxis and neighbor_list where the chemotaxis is larger than current\n",
      "                        new_chemotaxis = []\n",
      "                        new_neighbor_list = []\n",
      "                        for j in indices:\n",
      "                            new_chemotaxis.append(chemotaxis[j])\n",
      "                            new_neighbor_list.append(neighbor_list[j])\n",
      "                        # rearrange the new_neighbor_list in the order of decreasing chemotaxis\n",
      "                        new_indices = np.argsort(new_chemotaxis)[::-1]\n",
      "                        is_occupied = True\n",
      "                        j = 0\n",
      "                        while is_occupied:\n",
      "                            x_new, y_new = new_neighbor_list[new_indices[j]]\n",
      "                            if(self.space_cell[x_new,y_new] == i):\n",
      "                                break\n",
      "                            elif(np.isnan(self.space_cell[x_new, y_new])):\n",
      "                                self.space_cell[x_new, y_new] = i\n",
      "                                self.space_cell[x,y] = np.nan\n",
      "                                is_occupied = False\n",
      "                                break\n",
      "                            else:\n",
      "                                is_occupied = True\n",
      "                                j+=1\n",
      "                            if j>=len(new_indices):\n",
      "                                break\n",
      "        \n",
      "    def step(self):\n",
      "        ''' Step method can be generally devided in to five parts:\n",
      "        1. Make a copy of current infection, oxy_array, total_oxy, and all inflammation factors(IFs)\n",
      "        2. Update the parameters mentioned in 1 based on the old status of cells to get new values of these parameters\n",
      "        3. Update cell status based on the copy made in 1 to get new status of cells\n",
      "        4. Move PMN, Mono, TH cells\n",
      "        5. Record history'''\n",
      "        # 1. make copies of infections, oxy_array, and IFs\n",
      "        infection_copy = self.infection.copy()\n",
      "        # oxy_array_copy = self.oxy_array.copy()\n",
      "        endotoxin_copy = self.endotoxin.copy()\n",
      "        cytotox_copy = self.cytotox.copy()\n",
      "        PAF_copy = self.PAF.copy()\n",
      "        IL_8_copy = self.IL_8.copy()\n",
      "        TNF_copy = self.TNF.copy()\n",
      "        IL_1_copy = self.IL_1.copy()\n",
      "        # GCSF_copy = self.GCSF.copy()\n",
      "        IL_10_copy = self.IL_10.copy()\n",
      "        IL_12_copy = self.IL_12.copy()\n",
      "        IFN_g_copy = self.IFN_g.copy()\n",
      "        IL_4_copy = self.IL_4.copy()\n",
      "        IL_1ra_copy = self.IL_1ra.copy()\n",
      "        \n",
      "        # 2. update parameters\n",
      "        ''' change of inflammation factors are first considered the change due to cell actions, \n",
      "        then their diffusion, then the effects of antibody'''\n",
      "        self.update_inflammation_factor(infection_copy, PAF_copy, endotoxin_copy,cytotox_copy, IL_8_copy, TNF_copy, IL_1_copy,\n",
      "                                        IL_10_copy, IL_12_copy, IFN_g_copy, IL_1ra_copy)\n",
      "        # diffusion of infection\n",
      "        self.infection_diffusion()\n",
      "        # diffusion of inflammation factors\n",
      "        self.endotoxin = self.inflammation_factor_diffusion(self.endotoxin).copy()\n",
      "        self.cytotox = self.inflammation_factor_diffusion(self.cytotox).copy()\n",
      "        self.PAF = self.inflammation_factor_diffusion(self.PAF).copy()\n",
      "        self.IL_8 = self.inflammation_factor_diffusion(self.IL_8).copy()\n",
      "        self.TNF = self.inflammation_factor_diffusion(self.TNF).copy()\n",
      "        self.IL_1 = self.inflammation_factor_diffusion(self.IL_1).copy()\n",
      "        self.GCSF = self.inflammation_factor_diffusion(self.GCSF).copy()\n",
      "        self.IL_10 = self.inflammation_factor_diffusion(self.IL_10).copy()\n",
      "        self.IL_12 = self.inflammation_factor_diffusion(self.IL_12).copy()\n",
      "        self.IFN_g = self.inflammation_factor_diffusion(self.IFN_g).copy()\n",
      "        self.IL_4 = self.inflammation_factor_diffusion(self.IL_4).copy()\n",
      "        # use of antibiotic would alleviate infection\n",
      "        self.infection *= self.antibiotic\n",
      "        \n",
      "        # effect of antibodies\n",
      "        self.endotoxin *= self.endotoxin_antibody\n",
      "        self.cytotox *= self.cytotox_antibody\n",
      "        self.PAF *= self.PAF_antibody\n",
      "        self.IL_8 *= self.IL_8_antibody\n",
      "        self.TNF *= self.TNF_antibody\n",
      "        self.IL_1 *= self.IL_1_antibody\n",
      "        self.GCSF *= self.GCSF_antibody\n",
      "        self.IL_10 *= self.IL_10_antibody\n",
      "        self.IL_12 *= self.IL_12_antibody\n",
      "        self.IFN_g *= self.IFN_g_antibody\n",
      "        self.IL_4 *= self.IL_4_antibody\n",
      "        \n",
      "        # 3. update cell status based on copies of concentrations from last step\n",
      "        self.update_cell_status(infection_copy,endotoxin_copy,cytotox_copy, TNF_copy, PAF_copy, IL_1_copy, IL_10_copy, IFN_g_copy, IL_4_copy, IL_12_copy)\n",
      "        \n",
      "        # search the status of ECs to get the updated oxy_array\n",
      "        self.update_total_oxy()\n",
      "        \n",
      "        # 4. move cells\n",
      "        self.move_cells()\n",
      "        \n",
      "        # 5. record history\n",
      "        self.t += 1\n",
      "        self.history_injured_EC.append(self.injured_EC)\n",
      "        self.history_total_oxy.append(self.total_oxy)\n",
      "        self.history_system_damage.append(self.system_damage)\n",
      "        \n",
      "    def __repr__(self):\n",
      "        '''\n",
      "        Return string representation.\n",
      "        '''\n",
      "        skip_none = True\n",
      "        repr_string = type(self).__name__ + ' ['\n",
      "        except_list = 'model'\n",
      "        \n",
      "        elements = [e for e in dir(self) if str(e) not in except_list]\n",
      "        for e in elements:\n",
      "            if not e.startswith(\"_\") and eval('type(self.{0}).__name__'.format(e)) not in ['DataFrame', 'function', 'method', 'builtin_function_or_method', 'module',\n",
      "             'instancemethod']:\n",
      "                value = eval('self.' + e)\n",
      "                if value != None and skip_none == True:\n",
      "                    repr_string += '{0}={1}, '.format(e, value)\n",
      "        return repr_string.strip(' ').strip(',') + ']'"
     ],
     "language": "python",
     "metadata": {},
     "outputs": [],
     "prompt_number": 125
    },
    {
     "cell_type": "markdown",
     "metadata": {},
     "source": [
      "# Results\n",
      "\n",
      "## Overview\n",
      "This model is expected to give different simulation results with sweeping parameters. It is hoped that certain interference can lower system damage at the end of the simulation compared to control group with no interference. The total system damage would be plotted against the potency of the interference to show the effect on the outcome of system.\n",
      "## Hypothetical Results\n",
      "From the perspective of existent knowledge, the blockade of some inflammatory factors that are responsible to promote the immune response and propagate the damage is expected to achieve the ultimate goal to ameliorate the whole system. But it is still unknown for now whether the blockade of a single factor is sufficient to accomplish the task or more factors are needed to be interfered at the same time."
     ]
    },
    {
     "cell_type": "code",
     "collapsed": false,
     "input": [
      "m = Model(num_infection = 500)\n",
      "for step in xrange(100):\n",
      "    m.step()\n",
      "    if(step % 9 == 0):\n",
      "        m.setup_infection(200)\n",
      "        print m.system_damage"
     ],
     "language": "python",
     "metadata": {},
     "outputs": [
      {
       "output_type": "stream",
       "stream": "stdout",
       "text": [
        "0.0680345064209\n",
        "0.153874277032"
       ]
      },
      {
       "output_type": "stream",
       "stream": "stdout",
       "text": [
        "\n",
        "0.242381384178"
       ]
      },
      {
       "output_type": "stream",
       "stream": "stdout",
       "text": [
        "\n",
        "0.330886481717"
       ]
      },
      {
       "output_type": "stream",
       "stream": "stdout",
       "text": [
        "\n",
        "0.417766101363"
       ]
      },
      {
       "output_type": "stream",
       "stream": "stdout",
       "text": [
        "\n",
        "0.505830996961"
       ]
      },
      {
       "output_type": "stream",
       "stream": "stdout",
       "text": [
        "\n",
        "0.588384325066"
       ]
      },
      {
       "output_type": "stream",
       "stream": "stdout",
       "text": [
        "\n",
        "0.665962993824"
       ]
      },
      {
       "output_type": "stream",
       "stream": "stdout",
       "text": [
        "\n",
        "0.736303891775"
       ]
      },
      {
       "output_type": "stream",
       "stream": "stdout",
       "text": [
        "\n",
        "0.796421576316"
       ]
      },
      {
       "output_type": "stream",
       "stream": "stdout",
       "text": [
        "\n",
        "0.843179982355"
       ]
      },
      {
       "output_type": "stream",
       "stream": "stdout",
       "text": [
        "\n",
        "0.879132634055"
       ]
      },
      {
       "output_type": "stream",
       "stream": "stdout",
       "text": [
        "\n"
       ]
      }
     ],
     "prompt_number": 25
    },
    {
     "cell_type": "code",
     "collapsed": false,
     "input": [
      "m1 = Model(grid_size = 50, num_infection = 200, diffusion_rate=0.01)\n",
      "for step in xrange(200):\n",
      "    m1.step()\n",
      "    if(step % 10 == 0):\n",
      "        # m1.setup_infection(200)\n",
      "        print m1.system_damage"
     ],
     "language": "python",
     "metadata": {},
     "outputs": [
      {
       "output_type": "stream",
       "stream": "stdout",
       "text": [
        "0.0984\n",
        "0.307745368881"
       ]
      },
      {
       "output_type": "stream",
       "stream": "stdout",
       "text": [
        "\n",
        "0.429330592555"
       ]
      },
      {
       "output_type": "stream",
       "stream": "stdout",
       "text": [
        "\n",
        "0.54720084434"
       ]
      },
      {
       "output_type": "stream",
       "stream": "stdout",
       "text": [
        "\n",
        "0.60298414832"
       ]
      },
      {
       "output_type": "stream",
       "stream": "stdout",
       "text": [
        "\n",
        "0.648609587533"
       ]
      },
      {
       "output_type": "stream",
       "stream": "stdout",
       "text": [
        "\n",
        "0.684480717944"
       ]
      },
      {
       "output_type": "stream",
       "stream": "stdout",
       "text": [
        "\n",
        "0.710213160091"
       ]
      },
      {
       "output_type": "stream",
       "stream": "stdout",
       "text": [
        "\n",
        "0.724595135611"
       ]
      },
      {
       "output_type": "stream",
       "stream": "stdout",
       "text": [
        "\n",
        "0.740215803429"
       ]
      },
      {
       "output_type": "stream",
       "stream": "stdout",
       "text": [
        "\n",
        "0.758827610458"
       ]
      },
      {
       "output_type": "stream",
       "stream": "stdout",
       "text": [
        "\n",
        "0.778630447351"
       ]
      },
      {
       "output_type": "stream",
       "stream": "stdout",
       "text": [
        "\n",
        "0.786302695423"
       ]
      },
      {
       "output_type": "stream",
       "stream": "stdout",
       "text": [
        "\n",
        "0.798675989246"
       ]
      },
      {
       "output_type": "stream",
       "stream": "stdout",
       "text": [
        "\n",
        "0.808526601524"
       ]
      },
      {
       "output_type": "stream",
       "stream": "stdout",
       "text": [
        "\n",
        "0.811761462878"
       ]
      },
      {
       "output_type": "stream",
       "stream": "stdout",
       "text": [
        "\n",
        "0.819709481539"
       ]
      },
      {
       "output_type": "stream",
       "stream": "stdout",
       "text": [
        "\n",
        "0.823970618094"
       ]
      },
      {
       "output_type": "stream",
       "stream": "stdout",
       "text": [
        "\n",
        "0.823933956023"
       ]
      },
      {
       "output_type": "stream",
       "stream": "stdout",
       "text": [
        "\n",
        "0.825138433388"
       ]
      },
      {
       "output_type": "stream",
       "stream": "stdout",
       "text": [
        "\n"
       ]
      }
     ],
     "prompt_number": 180
    },
    {
     "cell_type": "code",
     "collapsed": false,
     "input": [
      "m2 = Model(grid_size = 50, num_infection = 200, diffusion_rate=0.01)\n",
      "for step in xrange(200):\n",
      "    m2.step()\n",
      "    if(m2.system_damage>0.3):\n",
      "        m2.antibiotic = 0.1\n",
      "    if(step % 10 == 0):\n",
      "        print m2.system_damage"
     ],
     "language": "python",
     "metadata": {},
     "outputs": [
      {
       "output_type": "stream",
       "stream": "stdout",
       "text": [
        "0.0984\n",
        "0.299616221835"
       ]
      },
      {
       "output_type": "stream",
       "stream": "stdout",
       "text": [
        "\n",
        "0.38123247565"
       ]
      },
      {
       "output_type": "stream",
       "stream": "stdout",
       "text": [
        "\n",
        "0.503278523648"
       ]
      },
      {
       "output_type": "stream",
       "stream": "stdout",
       "text": [
        "\n",
        "0.572445559085"
       ]
      },
      {
       "output_type": "stream",
       "stream": "stdout",
       "text": [
        "\n",
        "0.625384282353"
       ]
      },
      {
       "output_type": "stream",
       "stream": "stdout",
       "text": [
        "\n",
        "0.658365634947"
       ]
      },
      {
       "output_type": "stream",
       "stream": "stdout",
       "text": [
        "\n",
        "0.685754083405"
       ]
      },
      {
       "output_type": "stream",
       "stream": "stdout",
       "text": [
        "\n",
        "0.704951434456"
       ]
      },
      {
       "output_type": "stream",
       "stream": "stdout",
       "text": [
        "\n",
        "0.718552058282"
       ]
      },
      {
       "output_type": "stream",
       "stream": "stdout",
       "text": [
        "\n",
        "0.73654163404"
       ]
      },
      {
       "output_type": "stream",
       "stream": "stdout",
       "text": [
        "\n",
        "0.756340172187"
       ]
      },
      {
       "output_type": "stream",
       "stream": "stdout",
       "text": [
        "\n",
        "0.763789259169"
       ]
      },
      {
       "output_type": "stream",
       "stream": "stdout",
       "text": [
        "\n",
        "0.785848666346"
       ]
      },
      {
       "output_type": "stream",
       "stream": "stdout",
       "text": [
        "\n",
        "0.799800241603"
       ]
      },
      {
       "output_type": "stream",
       "stream": "stdout",
       "text": [
        "\n",
        "0.804655779588"
       ]
      },
      {
       "output_type": "stream",
       "stream": "stdout",
       "text": [
        "\n"
       ]
      },
      {
       "ename": "KeyboardInterrupt",
       "evalue": "",
       "output_type": "pyerr",
       "traceback": [
        "\u001b[0;31m---------------------------------------------------------------------------\u001b[0m\n\u001b[0;31mKeyboardInterrupt\u001b[0m                         Traceback (most recent call last)",
        "\u001b[0;32m<ipython-input-189-8ef43ecfe42e>\u001b[0m in \u001b[0;36m<module>\u001b[0;34m()\u001b[0m\n\u001b[1;32m      1\u001b[0m \u001b[0mm2\u001b[0m \u001b[0;34m=\u001b[0m \u001b[0mModel\u001b[0m\u001b[0;34m(\u001b[0m\u001b[0mgrid_size\u001b[0m \u001b[0;34m=\u001b[0m \u001b[0;36m50\u001b[0m\u001b[0;34m,\u001b[0m \u001b[0mnum_infection\u001b[0m \u001b[0;34m=\u001b[0m \u001b[0;36m200\u001b[0m\u001b[0;34m,\u001b[0m \u001b[0mdiffusion_rate\u001b[0m\u001b[0;34m=\u001b[0m\u001b[0;36m0.01\u001b[0m\u001b[0;34m)\u001b[0m\u001b[0;34m\u001b[0m\u001b[0m\n\u001b[1;32m      2\u001b[0m \u001b[0;32mfor\u001b[0m \u001b[0mstep\u001b[0m \u001b[0;32min\u001b[0m \u001b[0mxrange\u001b[0m\u001b[0;34m(\u001b[0m\u001b[0;36m200\u001b[0m\u001b[0;34m)\u001b[0m\u001b[0;34m:\u001b[0m\u001b[0;34m\u001b[0m\u001b[0m\n\u001b[0;32m----> 3\u001b[0;31m     \u001b[0mm2\u001b[0m\u001b[0;34m.\u001b[0m\u001b[0mstep\u001b[0m\u001b[0;34m(\u001b[0m\u001b[0;34m)\u001b[0m\u001b[0;34m\u001b[0m\u001b[0m\n\u001b[0m\u001b[1;32m      4\u001b[0m     \u001b[0;32mif\u001b[0m\u001b[0;34m(\u001b[0m\u001b[0mm2\u001b[0m\u001b[0;34m.\u001b[0m\u001b[0msystem_damage\u001b[0m\u001b[0;34m>\u001b[0m\u001b[0;36m0.3\u001b[0m\u001b[0;34m)\u001b[0m\u001b[0;34m:\u001b[0m\u001b[0;34m\u001b[0m\u001b[0m\n\u001b[1;32m      5\u001b[0m         \u001b[0mm2\u001b[0m\u001b[0;34m.\u001b[0m\u001b[0mantibiotic\u001b[0m \u001b[0;34m=\u001b[0m \u001b[0;36m0.1\u001b[0m\u001b[0;34m\u001b[0m\u001b[0m\n",
        "\u001b[0;32m<ipython-input-125-c5b6ed6be352>\u001b[0m in \u001b[0;36mstep\u001b[0;34m(self)\u001b[0m\n\u001b[1;32m    631\u001b[0m         \u001b[0mself\u001b[0m\u001b[0;34m.\u001b[0m\u001b[0mTNF\u001b[0m \u001b[0;34m=\u001b[0m \u001b[0mself\u001b[0m\u001b[0;34m.\u001b[0m\u001b[0minflammation_factor_diffusion\u001b[0m\u001b[0;34m(\u001b[0m\u001b[0mself\u001b[0m\u001b[0;34m.\u001b[0m\u001b[0mTNF\u001b[0m\u001b[0;34m)\u001b[0m\u001b[0;34m.\u001b[0m\u001b[0mcopy\u001b[0m\u001b[0;34m(\u001b[0m\u001b[0;34m)\u001b[0m\u001b[0;34m\u001b[0m\u001b[0m\n\u001b[1;32m    632\u001b[0m         \u001b[0mself\u001b[0m\u001b[0;34m.\u001b[0m\u001b[0mIL_1\u001b[0m \u001b[0;34m=\u001b[0m \u001b[0mself\u001b[0m\u001b[0;34m.\u001b[0m\u001b[0minflammation_factor_diffusion\u001b[0m\u001b[0;34m(\u001b[0m\u001b[0mself\u001b[0m\u001b[0;34m.\u001b[0m\u001b[0mIL_1\u001b[0m\u001b[0;34m)\u001b[0m\u001b[0;34m.\u001b[0m\u001b[0mcopy\u001b[0m\u001b[0;34m(\u001b[0m\u001b[0;34m)\u001b[0m\u001b[0;34m\u001b[0m\u001b[0m\n\u001b[0;32m--> 633\u001b[0;31m         \u001b[0mself\u001b[0m\u001b[0;34m.\u001b[0m\u001b[0mGCSF\u001b[0m \u001b[0;34m=\u001b[0m \u001b[0mself\u001b[0m\u001b[0;34m.\u001b[0m\u001b[0minflammation_factor_diffusion\u001b[0m\u001b[0;34m(\u001b[0m\u001b[0mself\u001b[0m\u001b[0;34m.\u001b[0m\u001b[0mGCSF\u001b[0m\u001b[0;34m)\u001b[0m\u001b[0;34m.\u001b[0m\u001b[0mcopy\u001b[0m\u001b[0;34m(\u001b[0m\u001b[0;34m)\u001b[0m\u001b[0;34m\u001b[0m\u001b[0m\n\u001b[0m\u001b[1;32m    634\u001b[0m         \u001b[0mself\u001b[0m\u001b[0;34m.\u001b[0m\u001b[0mIL_10\u001b[0m \u001b[0;34m=\u001b[0m \u001b[0mself\u001b[0m\u001b[0;34m.\u001b[0m\u001b[0minflammation_factor_diffusion\u001b[0m\u001b[0;34m(\u001b[0m\u001b[0mself\u001b[0m\u001b[0;34m.\u001b[0m\u001b[0mIL_10\u001b[0m\u001b[0;34m)\u001b[0m\u001b[0;34m.\u001b[0m\u001b[0mcopy\u001b[0m\u001b[0;34m(\u001b[0m\u001b[0;34m)\u001b[0m\u001b[0;34m\u001b[0m\u001b[0m\n\u001b[1;32m    635\u001b[0m         \u001b[0mself\u001b[0m\u001b[0;34m.\u001b[0m\u001b[0mIL_12\u001b[0m \u001b[0;34m=\u001b[0m \u001b[0mself\u001b[0m\u001b[0;34m.\u001b[0m\u001b[0minflammation_factor_diffusion\u001b[0m\u001b[0;34m(\u001b[0m\u001b[0mself\u001b[0m\u001b[0;34m.\u001b[0m\u001b[0mIL_12\u001b[0m\u001b[0;34m)\u001b[0m\u001b[0;34m.\u001b[0m\u001b[0mcopy\u001b[0m\u001b[0;34m(\u001b[0m\u001b[0;34m)\u001b[0m\u001b[0;34m\u001b[0m\u001b[0m\n",
        "\u001b[0;32m<ipython-input-125-c5b6ed6be352>\u001b[0m in \u001b[0;36minflammation_factor_diffusion\u001b[0;34m(self, IF_array)\u001b[0m\n\u001b[1;32m    236\u001b[0m         \u001b[0mtmp_calc\u001b[0m\u001b[0;34m[\u001b[0m\u001b[0;36m1\u001b[0m\u001b[0;34m:\u001b[0m\u001b[0;34m-\u001b[0m\u001b[0;36m1\u001b[0m\u001b[0;34m,\u001b[0m\u001b[0;36m1\u001b[0m\u001b[0;34m:\u001b[0m\u001b[0;34m-\u001b[0m\u001b[0;36m1\u001b[0m\u001b[0;34m]\u001b[0m \u001b[0;34m=\u001b[0m \u001b[0mIF_array\u001b[0m\u001b[0;34m.\u001b[0m\u001b[0mcopy\u001b[0m\u001b[0;34m(\u001b[0m\u001b[0;34m)\u001b[0m\u001b[0;34m\u001b[0m\u001b[0m\n\u001b[1;32m    237\u001b[0m         \u001b[0mtmp_store\u001b[0m \u001b[0;34m=\u001b[0m \u001b[0mnp\u001b[0m\u001b[0;34m.\u001b[0m\u001b[0mzeros\u001b[0m\u001b[0;34m(\u001b[0m\u001b[0;34m(\u001b[0m\u001b[0mself\u001b[0m\u001b[0;34m.\u001b[0m\u001b[0mgrid_size\u001b[0m\u001b[0;34m,\u001b[0m \u001b[0mself\u001b[0m\u001b[0;34m.\u001b[0m\u001b[0mgrid_size\u001b[0m\u001b[0;34m)\u001b[0m\u001b[0;34m)\u001b[0m\u001b[0;34m\u001b[0m\u001b[0m\n\u001b[0;32m--> 238\u001b[0;31m         \u001b[0mtmp_store\u001b[0m \u001b[0;34m=\u001b[0m \u001b[0mtmp_calc\u001b[0m\u001b[0;34m[\u001b[0m\u001b[0;36m1\u001b[0m\u001b[0;34m:\u001b[0m\u001b[0;34m-\u001b[0m\u001b[0;36m1\u001b[0m\u001b[0;34m,\u001b[0m\u001b[0;36m1\u001b[0m\u001b[0;34m:\u001b[0m\u001b[0;34m-\u001b[0m\u001b[0;36m1\u001b[0m\u001b[0;34m]\u001b[0m \u001b[0;34m+\u001b[0m \u001b[0mself\u001b[0m\u001b[0;34m.\u001b[0m\u001b[0mdiffusion_rate\u001b[0m\u001b[0;34m/\u001b[0m\u001b[0mdx\u001b[0m\u001b[0;34m**\u001b[0m\u001b[0;36m2\u001b[0m\u001b[0;34m*\u001b[0m\u001b[0;34m(\u001b[0m\u001b[0mtmp_calc\u001b[0m\u001b[0;34m[\u001b[0m\u001b[0;36m2\u001b[0m\u001b[0;34m:\u001b[0m\u001b[0;34m,\u001b[0m\u001b[0;36m1\u001b[0m\u001b[0;34m:\u001b[0m\u001b[0;34m-\u001b[0m\u001b[0;36m1\u001b[0m\u001b[0;34m]\u001b[0m\u001b[0;34m-\u001b[0m\u001b[0;36m2\u001b[0m\u001b[0;34m*\u001b[0m\u001b[0mtmp_calc\u001b[0m\u001b[0;34m[\u001b[0m\u001b[0;36m1\u001b[0m\u001b[0;34m:\u001b[0m\u001b[0;34m-\u001b[0m\u001b[0;36m1\u001b[0m\u001b[0;34m,\u001b[0m\u001b[0;36m1\u001b[0m\u001b[0;34m:\u001b[0m\u001b[0;34m-\u001b[0m\u001b[0;36m1\u001b[0m\u001b[0;34m]\u001b[0m\u001b[0;34m+\u001b[0m\u001b[0mtmp_calc\u001b[0m\u001b[0;34m[\u001b[0m\u001b[0;36m0\u001b[0m\u001b[0;34m:\u001b[0m\u001b[0;34m-\u001b[0m\u001b[0;36m2\u001b[0m\u001b[0;34m,\u001b[0m\u001b[0;36m1\u001b[0m\u001b[0;34m:\u001b[0m\u001b[0;34m-\u001b[0m\u001b[0;36m1\u001b[0m\u001b[0;34m]\u001b[0m\u001b[0;34m)\u001b[0m\u001b[0;34m+\u001b[0m\u001b[0mself\u001b[0m\u001b[0;34m.\u001b[0m\u001b[0mdiffusion_rate\u001b[0m\u001b[0;34m/\u001b[0m\u001b[0mdy\u001b[0m\u001b[0;34m**\u001b[0m\u001b[0;36m2\u001b[0m\u001b[0;34m*\u001b[0m\u001b[0;34m(\u001b[0m\u001b[0mtmp_calc\u001b[0m\u001b[0;34m[\u001b[0m\u001b[0;36m1\u001b[0m\u001b[0;34m:\u001b[0m\u001b[0;34m-\u001b[0m\u001b[0;36m1\u001b[0m\u001b[0;34m,\u001b[0m\u001b[0;36m2\u001b[0m\u001b[0;34m:\u001b[0m\u001b[0;34m]\u001b[0m\u001b[0;34m-\u001b[0m\u001b[0;36m2\u001b[0m\u001b[0;34m*\u001b[0m\u001b[0mtmp_calc\u001b[0m\u001b[0;34m[\u001b[0m\u001b[0;36m1\u001b[0m\u001b[0;34m:\u001b[0m\u001b[0;34m-\u001b[0m\u001b[0;36m1\u001b[0m\u001b[0;34m,\u001b[0m\u001b[0;36m1\u001b[0m\u001b[0;34m:\u001b[0m\u001b[0;34m-\u001b[0m\u001b[0;36m1\u001b[0m\u001b[0;34m]\u001b[0m\u001b[0;34m+\u001b[0m\u001b[0mtmp_calc\u001b[0m\u001b[0;34m[\u001b[0m\u001b[0;36m1\u001b[0m\u001b[0;34m:\u001b[0m\u001b[0;34m-\u001b[0m\u001b[0;36m1\u001b[0m\u001b[0;34m,\u001b[0m\u001b[0;36m0\u001b[0m\u001b[0;34m:\u001b[0m\u001b[0;34m-\u001b[0m\u001b[0;36m2\u001b[0m\u001b[0;34m]\u001b[0m\u001b[0;34m)\u001b[0m\u001b[0;34m\u001b[0m\u001b[0m\n\u001b[0m\u001b[1;32m    239\u001b[0m         \u001b[0;32mreturn\u001b[0m \u001b[0mtmp_store\u001b[0m\u001b[0;34m\u001b[0m\u001b[0m\n\u001b[1;32m    240\u001b[0m \u001b[0;34m\u001b[0m\u001b[0m\n",
        "\u001b[0;31mKeyboardInterrupt\u001b[0m: "
       ]
      }
     ],
     "prompt_number": 189
    },
    {
     "cell_type": "code",
     "collapsed": false,
     "input": [
      "m3 = Model(grid_size = 50, num_infection = 200, diffusion_rate=0.01)\n",
      "for step in xrange(200):\n",
      "    m3.step()\n",
      "    if(m3.system_damage>0.2):\n",
      "        m3.antibiotic = 0.1\n",
      "    if(step % 10 == 0):\n",
      "        print m3.system_damage"
     ],
     "language": "python",
     "metadata": {},
     "outputs": [
      {
       "output_type": "stream",
       "stream": "stdout",
       "text": [
        "0.0984\n",
        "0.283791282667"
       ]
      },
      {
       "output_type": "stream",
       "stream": "stdout",
       "text": [
        "\n",
        "0.407563638748"
       ]
      },
      {
       "output_type": "stream",
       "stream": "stdout",
       "text": [
        "\n",
        "0.493740397568"
       ]
      },
      {
       "output_type": "stream",
       "stream": "stdout",
       "text": [
        "\n",
        "0.555134037148"
       ]
      },
      {
       "output_type": "stream",
       "stream": "stdout",
       "text": [
        "\n",
        "0.600919381135"
       ]
      },
      {
       "output_type": "stream",
       "stream": "stdout",
       "text": [
        "\n",
        "0.624284629219"
       ]
      },
      {
       "output_type": "stream",
       "stream": "stdout",
       "text": [
        "\n",
        "0.638891208834"
       ]
      },
      {
       "output_type": "stream",
       "stream": "stdout",
       "text": [
        "\n",
        "0.661865027227"
       ]
      },
      {
       "output_type": "stream",
       "stream": "stdout",
       "text": [
        "\n",
        "0.681959212437"
       ]
      },
      {
       "output_type": "stream",
       "stream": "stdout",
       "text": [
        "\n",
        "0.708337993417"
       ]
      },
      {
       "output_type": "stream",
       "stream": "stdout",
       "text": [
        "\n",
        "0.730905439153"
       ]
      },
      {
       "output_type": "stream",
       "stream": "stdout",
       "text": [
        "\n",
        "0.737433768786"
       ]
      },
      {
       "output_type": "stream",
       "stream": "stdout",
       "text": [
        "\n",
        "0.746990851913"
       ]
      },
      {
       "output_type": "stream",
       "stream": "stdout",
       "text": [
        "\n",
        "0.762390532398"
       ]
      },
      {
       "output_type": "stream",
       "stream": "stdout",
       "text": [
        "\n",
        "0.778767525125"
       ]
      },
      {
       "output_type": "stream",
       "stream": "stdout",
       "text": [
        "\n",
        "0.788344772406"
       ]
      },
      {
       "output_type": "stream",
       "stream": "stdout",
       "text": [
        "\n",
        "0.793186343976"
       ]
      },
      {
       "output_type": "stream",
       "stream": "stdout",
       "text": [
        "\n",
        "0.796813138322"
       ]
      },
      {
       "output_type": "stream",
       "stream": "stdout",
       "text": [
        "\n",
        "0.799128813568"
       ]
      },
      {
       "output_type": "stream",
       "stream": "stdout",
       "text": [
        "\n"
       ]
      }
     ],
     "prompt_number": 183
    },
    {
     "cell_type": "code",
     "collapsed": false,
     "input": [
      "np.len(m3.system_damage)"
     ],
     "language": "python",
     "metadata": {},
     "outputs": [
      {
       "ename": "AttributeError",
       "evalue": "'module' object has no attribute 'len'",
       "output_type": "pyerr",
       "traceback": [
        "\u001b[0;31m---------------------------------------------------------------------------\u001b[0m\n\u001b[0;31mAttributeError\u001b[0m                            Traceback (most recent call last)",
        "\u001b[0;32m<ipython-input-198-0c9382141807>\u001b[0m in \u001b[0;36m<module>\u001b[0;34m()\u001b[0m\n\u001b[0;32m----> 1\u001b[0;31m \u001b[0mnp\u001b[0m\u001b[0;34m.\u001b[0m\u001b[0mlen\u001b[0m\u001b[0;34m(\u001b[0m\u001b[0mm3\u001b[0m\u001b[0;34m.\u001b[0m\u001b[0msystem_damage\u001b[0m\u001b[0;34m)\u001b[0m\u001b[0;34m\u001b[0m\u001b[0m\n\u001b[0m",
        "\u001b[0;31mAttributeError\u001b[0m: 'module' object has no attribute 'len'"
       ]
      }
     ],
     "prompt_number": 198
    },
    {
     "cell_type": "code",
     "collapsed": false,
     "input": [
      "x = range(5)\n",
      "print x\n",
      "y = np.zeros((4,5))\n",
      "y[0,:] = x\n",
      "z = []\n",
      "z.append(2)\n",
      "z.append(5)\n",
      "z.append(4)\n",
      "z.append(6)\n",
      "z.append(3)\n",
      "y[1,:] = z\n",
      "print y"
     ],
     "language": "python",
     "metadata": {},
     "outputs": [
      {
       "output_type": "stream",
       "stream": "stdout",
       "text": [
        "[0, 1, 2, 3, 4]\n",
        "[[ 0.  1.  2.  3.  4.]\n",
        " [ 2.  5.  4.  6.  3.]\n",
        " [ 0.  0.  0.  0.  0.]\n",
        " [ 0.  0.  0.  0.  0.]]\n"
       ]
      }
     ],
     "prompt_number": 196
    },
    {
     "cell_type": "code",
     "collapsed": false,
     "input": [
      "print m2.history_injured_EC"
     ],
     "language": "python",
     "metadata": {},
     "outputs": [
      {
       "output_type": "stream",
       "stream": "stdout",
       "text": [
        "[300, 300, 300, 300, 267, 33, 8, 41, 61, 370, 490, 294, 498, 1148, 1121, 1121, 1100, 1159, 1178, 1240, 1363, 1392, 1428, 1422, 1449, 1468, 1481, 1511, 1525, 1537, 1543, 1545, 1546, 1537, 1538, 1531, 1524, 1524, 1523, 1526, 1519, 1529, 1529, 1541, 1544, 1547, 1555, 1542, 1555, 1562, 1573, 1576, 1593, 1593, 1595, 1618, 1625, 1635, 1666, 1641, 1661, 1667, 1667, 1672, 1682, 1703, 1690, 1692, 1682, 1683, 1689, 1684, 1689, 1700, 1717, 1706, 1715, 1713, 1724, 1727, 1726, 1728, 1738, 1735, 1738, 1745, 1753, 1754, 1754, 1757, 1757, 1757, 1759, 1761, 1769, 1767, 1768, 1769, 1774, 1778]\n"
       ]
      }
     ],
     "prompt_number": 161
    },
    {
     "cell_type": "code",
     "collapsed": false,
     "input": [
      "m3 = Model(grid_size = 50, num_infection = 300, diffusion_rate=0.01)\n",
      "use_antibiotic = False\n",
      "for step in xrange(100):\n",
      "    m3.step()\n",
      "    if((m3.system_damage>0.4)&(not use_antibiotic)):\n",
      "        m3.antibiotic = 0.5\n",
      "        use_antibiotic = True\n",
      "    if(step % 10 == 0):\n",
      "        # m3.setup_infection(200)\n",
      "        print m3.system_damage\n"
     ],
     "language": "python",
     "metadata": {},
     "outputs": [
      {
       "output_type": "stream",
       "stream": "stdout",
       "text": [
        "0.1376\n",
        "0.416016091604"
       ]
      },
      {
       "output_type": "stream",
       "stream": "stdout",
       "text": [
        "\n",
        "0.581308862549"
       ]
      },
      {
       "output_type": "stream",
       "stream": "stdout",
       "text": [
        "\n",
        "0.671216494624"
       ]
      },
      {
       "output_type": "stream",
       "stream": "stdout",
       "text": [
        "\n",
        "0.714210603344"
       ]
      },
      {
       "output_type": "stream",
       "stream": "stdout",
       "text": [
        "\n",
        "0.74475430154"
       ]
      },
      {
       "output_type": "stream",
       "stream": "stdout",
       "text": [
        "\n",
        "0.772531880309"
       ]
      },
      {
       "output_type": "stream",
       "stream": "stdout",
       "text": [
        "\n",
        "0.784781398051"
       ]
      },
      {
       "output_type": "stream",
       "stream": "stdout",
       "text": [
        "\n",
        "0.793309859653"
       ]
      },
      {
       "output_type": "stream",
       "stream": "stdout",
       "text": [
        "\n",
        "0.799022504838"
       ]
      },
      {
       "output_type": "stream",
       "stream": "stdout",
       "text": [
        "\n"
       ]
      }
     ],
     "prompt_number": 155
    },
    {
     "cell_type": "code",
     "collapsed": false,
     "input": [
      "m3.history_injured_EC"
     ],
     "language": "python",
     "metadata": {},
     "outputs": [
      {
       "metadata": {},
       "output_type": "pyout",
       "prompt_number": 159,
       "text": [
        "[300,\n",
        " 300,\n",
        " 300,\n",
        " 300,\n",
        " 272,\n",
        " 24,\n",
        " 7,\n",
        " 67,\n",
        " 82,\n",
        " 368,\n",
        " 487,\n",
        " 300,\n",
        " 314,\n",
        " 472,\n",
        " 595,\n",
        " 834,\n",
        " 901,\n",
        " 1032,\n",
        " 1109,\n",
        " 1178,\n",
        " 1292,\n",
        " 1340,\n",
        " 1391,\n",
        " 1383,\n",
        " 1393,\n",
        " 1404,\n",
        " 1402,\n",
        " 1428,\n",
        " 1435,\n",
        " 1447,\n",
        " 1464,\n",
        " 1475,\n",
        " 1477,\n",
        " 1475,\n",
        " 1475,\n",
        " 1478,\n",
        " 1486,\n",
        " 1487,\n",
        " 1489,\n",
        " 1492,\n",
        " 1491,\n",
        " 1507,\n",
        " 1510,\n",
        " 1510,\n",
        " 1508,\n",
        " 1526,\n",
        " 1526,\n",
        " 1524,\n",
        " 1534,\n",
        " 1536,\n",
        " 1541,\n",
        " 1548,\n",
        " 1563,\n",
        " 1570,\n",
        " 1584,\n",
        " 1584,\n",
        " 1586,\n",
        " 1606,\n",
        " 1609,\n",
        " 1620,\n",
        " 1620,\n",
        " 1625,\n",
        " 1638,\n",
        " 1642,\n",
        " 1639,\n",
        " 1654,\n",
        " 1667,\n",
        " 1655,\n",
        " 1702,\n",
        " 1689,\n",
        " 1683,\n",
        " 1663,\n",
        " 1682,\n",
        " 1679,\n",
        " 1705,\n",
        " 1683,\n",
        " 1698,\n",
        " 1688,\n",
        " 1695,\n",
        " 1700,\n",
        " 1706,\n",
        " 1712,\n",
        " 1722,\n",
        " 1720,\n",
        " 1732,\n",
        " 1738,\n",
        " 1741,\n",
        " 1741,\n",
        " 1744,\n",
        " 1748,\n",
        " 1743,\n",
        " 1741,\n",
        " 1745,\n",
        " 1745,\n",
        " 1749,\n",
        " 1752,\n",
        " 1752,\n",
        " 1758,\n",
        " 1756,\n",
        " 1763]"
       ]
      }
     ],
     "prompt_number": 159
    },
    {
     "cell_type": "code",
     "collapsed": false,
     "input": [
      "m4 = Model(grid_size = 50, num_infection = 300, diffusion_rate=0.01)\n",
      "for step in xrange(100):\n",
      "    m4.step()\n",
      "    if(m4.system_damage>0.4):\n",
      "        m4.antibiotic = 0.2\n",
      "    if(step % 10 == 0):\n",
      "        # m4.setup_infection(100)\n",
      "        print m4.system_damage"
     ],
     "language": "python",
     "metadata": {},
     "outputs": [
      {
       "output_type": "stream",
       "stream": "stdout",
       "text": [
        "0.1376\n",
        "0.419911883255"
       ]
      },
      {
       "output_type": "stream",
       "stream": "stdout",
       "text": [
        "\n",
        "0.518726837799"
       ]
      },
      {
       "output_type": "stream",
       "stream": "stdout",
       "text": [
        "\n",
        "0.64543573446"
       ]
      },
      {
       "output_type": "stream",
       "stream": "stdout",
       "text": [
        "\n",
        "0.722356640761"
       ]
      },
      {
       "output_type": "stream",
       "stream": "stdout",
       "text": [
        "\n",
        "0.757891606436"
       ]
      },
      {
       "output_type": "stream",
       "stream": "stdout",
       "text": [
        "\n",
        "0.786249674329"
       ]
      },
      {
       "output_type": "stream",
       "stream": "stdout",
       "text": [
        "\n",
        "0.805037993263"
       ]
      },
      {
       "output_type": "stream",
       "stream": "stdout",
       "text": [
        "\n",
        "0.812103468151"
       ]
      },
      {
       "output_type": "stream",
       "stream": "stdout",
       "text": [
        "\n",
        "0.816199167761"
       ]
      },
      {
       "output_type": "stream",
       "stream": "stdout",
       "text": [
        "\n"
       ]
      }
     ],
     "prompt_number": 153
    },
    {
     "cell_type": "code",
     "collapsed": false,
     "input": [
      "m5 = Model(grid_size = 50, num_infection = 500, diffusion_rate=0.01)\n",
      "for step in xrange(100):\n",
      "    m5.step()\n",
      "    if(m5.system_damage>0.4):\n",
      "        m5.antibiotic = 0.4\n",
      "    if(step % 10 == 0):\n",
      "        m5.setup_infection(100)\n",
      "        print m5.system_damage"
     ],
     "language": "python",
     "metadata": {},
     "outputs": [
      {
       "output_type": "stream",
       "stream": "stdout",
       "text": [
        "0.216\n",
        "0.214442461582"
       ]
      },
      {
       "output_type": "stream",
       "stream": "stdout",
       "text": [
        "\n",
        "0.310299102498"
       ]
      },
      {
       "output_type": "stream",
       "stream": "stdout",
       "text": [
        "\n",
        "0.372068255439"
       ]
      },
      {
       "output_type": "stream",
       "stream": "stdout",
       "text": [
        "\n",
        "0.445861879731"
       ]
      },
      {
       "output_type": "stream",
       "stream": "stdout",
       "text": [
        "\n",
        "0.517739437022"
       ]
      },
      {
       "output_type": "stream",
       "stream": "stdout",
       "text": [
        "\n",
        "0.611594031225"
       ]
      },
      {
       "output_type": "stream",
       "stream": "stdout",
       "text": [
        "\n",
        "0.693856119907"
       ]
      },
      {
       "output_type": "stream",
       "stream": "stdout",
       "text": [
        "\n",
        "0.765084754524"
       ]
      },
      {
       "output_type": "stream",
       "stream": "stdout",
       "text": [
        "\n",
        "0.819435687021"
       ]
      },
      {
       "output_type": "stream",
       "stream": "stdout",
       "text": [
        "\n"
       ]
      }
     ],
     "prompt_number": 32
    },
    {
     "cell_type": "code",
     "collapsed": false,
     "input": [
      "m6 = Model(grid_size = 50, num_infection = 1000, diffusion_rate=0.1,num_PMN=500)\n",
      "for step in xrange(100):\n",
      "    m6.step()\n",
      "    if(m6.system_damage>0.4):\n",
      "        m6.antibiotic = 0.1\n",
      "    if(step % 9 == 0):\n",
      "        m6.setup_infection(50)\n",
      "        print m6.system_damage"
     ],
     "language": "python",
     "metadata": {},
     "outputs": [
      {
       "output_type": "stream",
       "stream": "stdout",
       "text": [
        "0.412\n",
        "0.325913609913"
       ]
      },
      {
       "output_type": "stream",
       "stream": "stdout",
       "text": [
        "\n",
        "0.372259700771"
       ]
      },
      {
       "output_type": "stream",
       "stream": "stdout",
       "text": [
        "\n",
        "0.417692893608"
       ]
      },
      {
       "output_type": "stream",
       "stream": "stdout",
       "text": [
        "\n",
        "0.46347903488"
       ]
      },
      {
       "output_type": "stream",
       "stream": "stdout",
       "text": [
        "\n",
        "0.509932706397"
       ]
      },
      {
       "output_type": "stream",
       "stream": "stdout",
       "text": [
        "\n",
        "0.556593285344"
       ]
      },
      {
       "output_type": "stream",
       "stream": "stdout",
       "text": [
        "\n",
        "0.607661706505"
       ]
      },
      {
       "output_type": "stream",
       "stream": "stdout",
       "text": [
        "\n",
        "0.663533271367"
       ]
      },
      {
       "output_type": "stream",
       "stream": "stdout",
       "text": [
        "\n",
        "0.715611826396"
       ]
      },
      {
       "output_type": "stream",
       "stream": "stdout",
       "text": [
        "\n",
        "0.764531024849"
       ]
      },
      {
       "output_type": "stream",
       "stream": "stdout",
       "text": [
        "\n",
        "0.810643859928"
       ]
      },
      {
       "output_type": "stream",
       "stream": "stdout",
       "text": [
        "\n"
       ]
      }
     ],
     "prompt_number": 55
    },
    {
     "cell_type": "code",
     "collapsed": false,
     "input": [
      "m7 = Model(grid_size = 10, num_PMN = 1, num_Mono = 1,num_TH0 = 10, num_TH1 = 5, num_infection = 5,diffusion_rate=0.01)\n",
      "for step in xrange(100):\n",
      "    m7.step()\n",
      "    if(m7.system_damage>0.4):\n",
      "        m7.antibiotic = 0.1\n",
      "    if((step+1) % 10 == 0):\n",
      "        # m7.setup_infection(5)\n",
      "        print m7.system_damage\n",
      "        # print m7.IL_1"
     ],
     "language": "python",
     "metadata": {},
     "outputs": [
      {
       "output_type": "stream",
       "stream": "stdout",
       "text": [
        "0.20101993764\n",
        "0.231047440064"
       ]
      },
      {
       "output_type": "stream",
       "stream": "stdout",
       "text": [
        "\n",
        "0.2644052646"
       ]
      },
      {
       "output_type": "stream",
       "stream": "stdout",
       "text": [
        "\n",
        "0.313918876745"
       ]
      },
      {
       "output_type": "stream",
       "stream": "stdout",
       "text": [
        "\n",
        "0.363440314149"
       ]
      },
      {
       "output_type": "stream",
       "stream": "stdout",
       "text": [
        "\n",
        "0.481858944296"
       ]
      },
      {
       "output_type": "stream",
       "stream": "stdout",
       "text": [
        "\n",
        "0.576162213082"
       ]
      },
      {
       "output_type": "stream",
       "stream": "stdout",
       "text": [
        "\n",
        "0.651198994169"
       ]
      },
      {
       "output_type": "stream",
       "stream": "stdout",
       "text": [
        "\n",
        "0.709273371756"
       ]
      },
      {
       "output_type": "stream",
       "stream": "stdout",
       "text": [
        "\n",
        "0.761284560599"
       ]
      },
      {
       "output_type": "stream",
       "stream": "stdout",
       "text": [
        "\n"
       ]
      }
     ],
     "prompt_number": 84
    },
    {
     "cell_type": "code",
     "collapsed": false,
     "input": [
      "m7 = Model(grid_size = 10, num_PMN = 5, num_Mono = 5,num_TH0 = 5, num_TH1 = 3, num_infection = 5)"
     ],
     "language": "python",
     "metadata": {},
     "outputs": [],
     "prompt_number": 178
    },
    {
     "cell_type": "code",
     "collapsed": false,
     "input": [
      "for x in xrange(200):\n",
      "    m7.step()\n",
      "    if(x % 10 == 0):\n",
      "        print m7.system_damage"
     ],
     "language": "python",
     "metadata": {},
     "outputs": [
      {
       "output_type": "stream",
       "stream": "stdout",
       "text": [
        "0.069\n",
        "0.28597"
       ]
      },
      {
       "output_type": "stream",
       "stream": "stdout",
       "text": [
        "\n",
        "0.362746125"
       ]
      },
      {
       "output_type": "stream",
       "stream": "stdout",
       "text": [
        "\n",
        "0.4015271875"
       ]
      },
      {
       "output_type": "stream",
       "stream": "stdout",
       "text": [
        "\n",
        "0.419980875"
       ]
      },
      {
       "output_type": "stream",
       "stream": "stdout",
       "text": [
        "\n",
        "0.439240330566"
       ]
      },
      {
       "output_type": "stream",
       "stream": "stdout",
       "text": [
        "\n",
        "0.455499876221"
       ]
      },
      {
       "output_type": "stream",
       "stream": "stdout",
       "text": [
        "\n",
        "0.473935052887"
       ]
      },
      {
       "output_type": "stream",
       "stream": "stdout",
       "text": [
        "\n",
        "0.512986674469"
       ]
      },
      {
       "output_type": "stream",
       "stream": "stdout",
       "text": [
        "\n",
        "0.588243191566"
       ]
      },
      {
       "output_type": "stream",
       "stream": "stdout",
       "text": [
        "\n",
        "0.708686840149"
       ]
      },
      {
       "output_type": "stream",
       "stream": "stdout",
       "text": [
        "\n",
        "0.731947326324"
       ]
      },
      {
       "output_type": "stream",
       "stream": "stdout",
       "text": [
        "\n",
        "0.757356831581"
       ]
      },
      {
       "output_type": "stream",
       "stream": "stdout",
       "text": [
        "\n",
        "0.836555147392"
       ]
      },
      {
       "output_type": "stream",
       "stream": "stdout",
       "text": [
        "\n",
        "0.879964652649"
       ]
      },
      {
       "output_type": "stream",
       "stream": "stdout",
       "text": [
        "\n",
        "0.886690989487"
       ]
      },
      {
       "output_type": "stream",
       "stream": "stdout",
       "text": [
        "\n",
        "0.921029010513"
       ]
      },
      {
       "output_type": "stream",
       "stream": "stdout",
       "text": [
        "\n",
        "0.937455"
       ]
      },
      {
       "output_type": "stream",
       "stream": "stdout",
       "text": [
        "\n",
        "0.93998"
       ]
      },
      {
       "output_type": "stream",
       "stream": "stdout",
       "text": [
        "\n",
        "0.95"
       ]
      },
      {
       "output_type": "stream",
       "stream": "stdout",
       "text": [
        "\n"
       ]
      }
     ],
     "prompt_number": 177
    },
    {
     "cell_type": "code",
     "collapsed": false,
     "input": [
      "for x in xrange(200):\n",
      "    m7.step()\n",
      "    if(m7.system_damage>0.4):\n",
      "        m7.antibiotic = 0.1\n",
      "    if(x % 10 == 0):\n",
      "        print m7.system_damage"
     ],
     "language": "python",
     "metadata": {},
     "outputs": [
      {
       "output_type": "stream",
       "stream": "stdout",
       "text": [
        "0.069\n",
        "0.30622"
       ]
      },
      {
       "output_type": "stream",
       "stream": "stdout",
       "text": [
        "\n",
        "0.3814845"
       ]
      },
      {
       "output_type": "stream",
       "stream": "stdout",
       "text": [
        "\n",
        "0.430945927549"
       ]
      },
      {
       "output_type": "stream",
       "stream": "stdout",
       "text": [
        "\n",
        "0.457213420605"
       ]
      },
      {
       "output_type": "stream",
       "stream": "stdout",
       "text": [
        "\n",
        "0.472314099617"
       ]
      },
      {
       "output_type": "stream",
       "stream": "stdout",
       "text": [
        "\n",
        "0.494519655173"
       ]
      },
      {
       "output_type": "stream",
       "stream": "stdout",
       "text": [
        "\n",
        "0.519225210728"
       ]
      },
      {
       "output_type": "stream",
       "stream": "stdout",
       "text": [
        "\n",
        "0.535520766284"
       ]
      },
      {
       "output_type": "stream",
       "stream": "stdout",
       "text": [
        "\n",
        "0.559001975309"
       ]
      },
      {
       "output_type": "stream",
       "stream": "stdout",
       "text": [
        "\n",
        "0.573812654321"
       ]
      },
      {
       "output_type": "stream",
       "stream": "stdout",
       "text": [
        "\n",
        "0.600882222222"
       ]
      },
      {
       "output_type": "stream",
       "stream": "stdout",
       "text": [
        "\n",
        "0.637532777778"
       ]
      },
      {
       "output_type": "stream",
       "stream": "stdout",
       "text": [
        "\n",
        "0.673678333333"
       ]
      },
      {
       "output_type": "stream",
       "stream": "stdout",
       "text": [
        "\n",
        "0.707638888889"
       ]
      },
      {
       "output_type": "stream",
       "stream": "stdout",
       "text": [
        "\n",
        "0.725719444444"
       ]
      },
      {
       "output_type": "stream",
       "stream": "stdout",
       "text": [
        "\n",
        "0.74729"
       ]
      },
      {
       "output_type": "stream",
       "stream": "stdout",
       "text": [
        "\n",
        "0.778020555556"
       ]
      },
      {
       "output_type": "stream",
       "stream": "stdout",
       "text": [
        "\n",
        "0.810421111111"
       ]
      },
      {
       "output_type": "stream",
       "stream": "stdout",
       "text": [
        "\n",
        "0.835948888889"
       ]
      },
      {
       "output_type": "stream",
       "stream": "stdout",
       "text": [
        "\n"
       ]
      }
     ],
     "prompt_number": 179
    },
    {
     "cell_type": "code",
     "collapsed": false,
     "input": [
      "print m7.endotoxin"
     ],
     "language": "python",
     "metadata": {},
     "outputs": [
      {
       "output_type": "stream",
       "stream": "stdout",
       "text": [
        "[[ 0.55135712  1.05295009  1.46569624  1.76645685  1.93771651  1.96408437\n",
        "   1.83405346  1.549527    1.12533444  0.59262654]\n",
        " [ 1.04977553  2.006909    2.79130376  3.36477836  3.6959318   3.74891378\n",
        "   3.49450924  2.94587397  2.13655632  1.12450813]\n",
        " [ 1.48652004  2.83539013  3.90984637  4.69319827  5.16276208  5.24526027\n",
        "   4.86543545  4.07688757  2.94667713  1.54879727]\n",
        " [ 1.90699963  3.60005123  4.84063566  5.72971071  6.32109949  6.45294552\n",
        "   5.92537058  4.89851098  3.51488931  1.84262351]\n",
        " [ 2.35110519  4.34866359  5.60571062  6.46056222  7.17368095  7.39082329\n",
        "   6.69197689  5.41368281  3.84800813  2.01168222]\n",
        " [ 2.57525938  4.70702273  5.89159674  6.6580229   7.40067226  7.67691009\n",
        "   6.9089614   5.56418504  3.97870449  2.09009545]\n",
        " [ 2.28788415  4.19621813  5.32311535  6.02802612  6.62950587  6.83897515\n",
        "   6.28422112  5.28951408  3.9759659   2.14044026]\n",
        " [ 1.79931508  3.3330982   4.33218811  4.93762251  5.31707715  5.44123043\n",
        "   5.21730364  4.80408988  3.93937684  2.20577135]\n",
        " [ 1.31912091  2.44006894  3.18939181  3.60078754  3.79454613  3.86548418\n",
        "   3.87981361  3.895724    3.46141301  1.99592274]\n",
        " [ 0.73364109  1.34843781  1.75010504  1.94457457  2.00920504  2.03043613\n",
        "   2.07672189  2.16703132  1.98348296  1.159718  ]]\n"
       ]
      }
     ],
     "prompt_number": 62
    },
    {
     "cell_type": "code",
     "collapsed": false,
     "input": [
      "print m7.infection"
     ],
     "language": "python",
     "metadata": {},
     "outputs": [
      {
       "output_type": "stream",
       "stream": "stdout",
       "text": [
        "[[   0.  100.    0.    0.    0.    0.    0.    0.    0.    0.]\n",
        " [   0.    0.    0.    0.    0.    0.    0.    0.    0.    0.]\n",
        " [   0.    0.    0.    0.    0.    0.    0.    0.    0.    0.]\n",
        " [   0.    0.    0.    0.    0.    0.  100.    0.    0.    0.]\n",
        " [   0.    0.    0.    0.    0.    0.    0.    0.    0.    0.]\n",
        " [   0.    0.    0.    0.    0.    0.    0.    0.    0.    0.]\n",
        " [   0.    0.    0.    0.    0.    0.    0.    0.    0.    0.]\n",
        " [   0.    0.  100.    0.    0.    0.    0.    0.    0.    0.]\n",
        " [   0.    0.    0.    0.    0.    0.    0.    0.    0.    0.]\n",
        " [   0.    0.    0.    0.    0.    0.    0.    0.    0.    0.]]\n"
       ]
      }
     ],
     "prompt_number": 63
    },
    {
     "cell_type": "code",
     "collapsed": false,
     "input": [
      "print m7.IL_8"
     ],
     "language": "python",
     "metadata": {},
     "outputs": [
      {
       "output_type": "stream",
       "stream": "stdout",
       "text": [
        "[[  2.27608664e+277   1.16411025e+279   5.10796997e+280   1.74934668e+282\n",
        "    3.64804605e+283   4.19262231e+283   2.55875930e+282   9.15868057e+280\n",
        "    2.47138485e+279   5.59456562e+277]\n",
        " [  1.16827972e+279   6.81381429e+280   3.47945927e+282   1.42508237e+284\n",
        "    3.68841602e+285   4.24990768e+285   2.14633051e+284   6.72465404e+282\n",
        "    1.60395542e+281   3.23272117e+279]\n",
        " [  5.14943570e+280   3.49414322e+282   2.13455765e+284   1.08843839e+286\n",
        "    3.72709515e+287   4.30503007e+287   1.67634707e+286   4.47075416e+284\n",
        "    9.45925168e+282   1.68735194e+281]\n",
        " [  1.77591530e+282   1.43968575e+284   1.09420334e+286   7.39746719e+287\n",
        "    3.76420431e+289   4.35822905e+289   1.19837747e+288   2.52193412e+286\n",
        "    4.68032123e+284   7.50002009e+282]\n",
        " [  3.76627938e+283   3.77561546e+285   3.78396593e+287   3.79192277e+289\n",
        "    1.89981397e+291   2.20474684e+291   7.54285900e+289   1.12634543e+288\n",
        "    1.70362223e+286   2.46618002e+284]\n",
        " [  7.19570870e+283   7.15692738e+285   7.11169292e+287   7.07477500e+289\n",
        "    3.52306537e+291   4.66537591e+291   1.65502107e+291   3.28500522e+289\n",
        "    3.61822695e+287   4.44372029e+285]\n",
        " [  4.49141581e+283   3.69873611e+285   3.16396932e+287   3.00950003e+289\n",
        "    1.52476898e+291   3.13906256e+291   2.77206498e+291   6.27513840e+289\n",
        "    7.00295235e+287   7.72162202e+285]\n",
        " [  2.46751815e+282   1.73279675e+284   1.07442343e+286   6.19218654e+287\n",
        "    3.01749414e+289   8.00411618e+289   9.29390401e+290   3.54009819e+290\n",
        "    6.99239908e+288   6.91301075e+286]\n",
        " [  7.68066843e+280   4.88816552e+282   2.58386385e+284   1.07707119e+286\n",
        "    3.19385745e+287   9.63031948e+287   1.81242984e+289   7.16103164e+288\n",
        "    1.39735335e+287   2.06427697e+285]\n",
        " [  1.79079258e+279   1.02144908e+281   4.89424182e+282   1.74056136e+284\n",
        "    3.76205591e+285   1.11504825e+286   1.76410014e+287   7.23877814e+286\n",
        "    2.09567622e+285   4.11468446e+283]]\n"
       ]
      }
     ],
     "prompt_number": 67
    },
    {
     "cell_type": "code",
     "collapsed": false,
     "input": [
      "for mono in m7.Monos[1:10]:\n",
      "    print mono"
     ],
     "language": "python",
     "metadata": {},
     "outputs": [
      {
       "output_type": "stream",
       "stream": "stdout",
       "text": [
        "Mono[Mono_id=101, is_Mono_activated=False, is_Mono_roll=True, is_Mono_stick=False, is_activated=False, move_distance=1]\n",
        "Mono[Mono_id=102, is_Mono_activated=False, is_Mono_roll=True, is_Mono_stick=False, is_activated=False, move_distance=1]\n",
        "Mono[Mono_id=103, is_Mono_activated=False, is_Mono_roll=True, is_Mono_stick=False, is_activated=False, move_distance=1]\n",
        "Mono[Mono_id=104, is_Mono_activated=False, is_Mono_roll=True, is_Mono_stick=False, is_activated=False, move_distance=1]\n",
        "Mono[Mono_id=105, is_Mono_activated=False, is_Mono_roll=True, is_Mono_stick=False, is_activated=False, move_distance=1]\n",
        "Mono[Mono_id=106, is_Mono_activated=False, is_Mono_roll=True, is_Mono_stick=False, is_activated=False, move_distance=1]\n",
        "Mono[Mono_id=107, is_Mono_activated=False, is_Mono_roll=True, is_Mono_stick=False, is_activated=False, move_distance=1]\n",
        "Mono[Mono_id=108, is_Mono_activated=False, is_Mono_roll=True, is_Mono_stick=False, is_activated=False, move_distance=1]\n",
        "Mono[Mono_id=109, is_Mono_activated=False, is_Mono_roll=True, is_Mono_stick=False, is_activated=False, move_distance=1]\n"
       ]
      }
     ],
     "prompt_number": 69
    },
    {
     "cell_type": "markdown",
     "metadata": {},
     "source": [
      "<a id='results'></a>\n",
      "### Results and Discussion "
     ]
    },
    {
     "cell_type": "markdown",
     "metadata": {},
     "source": [
      "<a id='reference'></a>\n",
      "### Reference \n",
      "[1] An G. In silico experiments of existing and hypothetical cytokine-directed clinical trials using agent-based modeling [J]. *Critical Care Medicine*, 2004, 32(10): 2050-2060.\n",
      "\n",
      "[2] Castellheim A, Brekke O L, Espevik T, et al. Innate immune responses to danger signals in systemic inflammatory response syndrome and sepsis [J]. *Scandinavian Journal of Immunology*, 2009, 69(6): 479-491.\n",
      "\n",
      "<a id='acknowledgement'></a>\n",
      "### Acknowledgement \n",
      "Thank Michael Bommarito and Sarah Cherng, the instructors of the course CSCS530, for their instructions on agent-based modeling and python programming."
     ]
    },
    {
     "cell_type": "code",
     "collapsed": false,
     "input": [],
     "language": "python",
     "metadata": {},
     "outputs": []
    }
   ],
   "metadata": {}
  }
 ]
}