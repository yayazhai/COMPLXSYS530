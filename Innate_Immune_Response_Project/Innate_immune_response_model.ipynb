{
 "metadata": {
  "name": "",
  "signature": "sha256:ce9558261f35a638394a38f19a8784fc40dff3ecb67fb73a449e18ef2e79cb4b"
 },
 "nbformat": 3,
 "nbformat_minor": 0,
 "worksheets": [
  {
   "cells": [
    {
     "cell_type": "raw",
     "metadata": {},
     "source": [
      "#Innate Immune Response Model\n"
     ]
    },
    {
     "cell_type": "code",
     "collapsed": false,
     "input": [],
     "language": "python",
     "metadata": {},
     "outputs": []
    }
   ],
   "metadata": {}
  }
 ]
}