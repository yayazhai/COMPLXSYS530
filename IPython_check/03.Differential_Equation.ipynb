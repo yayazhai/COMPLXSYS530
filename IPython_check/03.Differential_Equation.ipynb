{
 "metadata": {
  "name": "",
  "signature": "sha256:a22d07c7d2748ee3913648413ca9050a0b7362464f3dbd138481b48359bf241f"
 },
 "nbformat": 3,
 "nbformat_minor": 0,
 "worksheets": [
  {
   "cells": [
    {
     "cell_type": "markdown",
     "metadata": {},
     "source": [
      "# Differential Equations\n",
      "\n",
      "For CSCS530 course iPython checkpoint \\#3\n",
      "\n",
      "Author: Yaya Zhai\n",
      "Date: 04/10/2015\n",
      "\n",
      "The effort to investigate how to solve differential equations with Python comes from the need of my project to model the diffusion of molecules.\n",
      "\n",
      "Major reference is the CFD course: https://github.com/barbagroup/CFDPython/tree/master/lessons, many examples practiced here are from the course."
     ]
    },
    {
     "cell_type": "markdown",
     "metadata": {},
     "source": [
      "### 1-D Linear Convection\n",
      "\n",
      "To start with, consider a very simple first-order differential equation:\n",
      "\n",
      "$$\\frac{\\partial u}{\\partial t} + c \\frac{\\partial u}{\\partial x} = 0$$\n",
      "\n",
      "which describes a wave u transmit in one direction with velocity $c$, no change in shape.\n",
      "\n",
      "By the definition of derivitive, the differential equation can be written in the discrete form as:\n",
      "\n",
      "$$\\frac{u_i^{n+1}-u_i^n}{\\Delta t} + c \\frac{u_i^n-u_{i-1}^n}{\\Delta x} = 0$$\n",
      "\n",
      "where $n$ and $n+1$ are neighbouring time steps and $i$, $i-1$ are neighbouring points in space.\n",
      "\n",
      "In this way, $u_i^{n+1}$ is the only unknown given initial condition, which can be calculated:\n",
      "$$u_i^{n+1} = u_i^{n} - c \\frac{\\Delta t}{\\Delta x}(u_i^n-u_{i-1}^n)$$"
     ]
    },
    {
     "cell_type": "code",
     "collapsed": false,
     "input": [
      "import numpy as np\n",
      "import matplotlib.pyplot as plt\n",
      "import time, sys\n",
      "%matplotlib inline"
     ],
     "language": "python",
     "metadata": {},
     "outputs": [],
     "prompt_number": 1
    },
    {
     "cell_type": "code",
     "collapsed": false,
     "input": [
      "nx = 101  # number of steps in space\n",
      "nt = int(2*np.pi*10) # number of steps in time\n",
      "dx = 2*np.pi/(nx-1) # one step in space\n",
      "dt = 0.001 # one step in time\n",
      "c = 50 # speed\n",
      "# print nt"
     ],
     "language": "python",
     "metadata": {},
     "outputs": [],
     "prompt_number": 2
    },
    {
     "cell_type": "code",
     "collapsed": false,
     "input": [
      "# Initial wave is set to a sine function\n",
      "x = np.linspace(0,2*np.pi,(nx - 1))\n",
      "u0 = np.sin(x)\n",
      "plt.plot(x, u0);"
     ],
     "language": "python",
     "metadata": {},
     "outputs": [
      {
       "metadata": {},
       "output_type": "display_data",
       "png": "[encoded data removed]",
       "text": [
        "<matplotlib.figure.Figure at 0x1060d1ad0>"
       ]
      }
     ],
     "prompt_number": 3
    },
    {
     "cell_type": "code",
     "collapsed": false,
     "input": [
      "# Waveform after nt*dt\n",
      "# Compute the change of every point in space for every time step\n",
      "# Initialize new arrays to record space and wave\n",
      "u = np.copy(u0)\n",
      "xn = np.copy(x)\n",
      "for n in range(nt):\n",
      "    xn\n",
      "    # u_n is a copy of waveform in time point n, then we would use u_n to calculate waveform in time point n+1 $u$\n",
      "    u_n = np.copy(u)\n",
      "    for i in range(len(x)):\n",
      "        if i == 1:\n",
      "            u[i] = 0\n",
      "        else:\n",
      "            u[i] = u_n[i] - c*dt/dx*(u_n[i]-u_n[i-1])\n",
      "\n",
      "plt.plot(x,u0,'r',x,u,'b')\n",
      "# We can see that the wave has transmitted for half a period while remaining its original form"
     ],
     "language": "python",
     "metadata": {},
     "outputs": [
      {
       "metadata": {},
       "output_type": "pyout",
       "prompt_number": 4,
       "text": [
        "[<matplotlib.lines.Line2D at 0x1063c82d0>,\n",
        " <matplotlib.lines.Line2D at 0x1063c8550>]"
       ]
      },
      {
       "metadata": {},
       "output_type": "display_data",
       "png": "[encoded data removed]",
       "text": [
        "<matplotlib.figure.Figure at 0x106209c90>"
       ]
      }
     ],
     "prompt_number": 4
    },
    {
     "cell_type": "code",
     "collapsed": false,
     "input": [],
     "language": "python",
     "metadata": {},
     "outputs": [],
     "prompt_number": 4
    },
    {
     "cell_type": "code",
     "collapsed": false,
     "input": [],
     "language": "python",
     "metadata": {},
     "outputs": []
    }
   ],
   "metadata": {}
  }
 ]
}