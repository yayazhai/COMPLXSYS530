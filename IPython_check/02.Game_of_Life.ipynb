{
 "metadata": {
  "name": "",
  "signature": "sha256:1268ed1ff22ac784c19944f91ed9faa5788bbb2e9037d9514b537e70d4a2b2e8"
 },
 "nbformat": 3,
 "nbformat_minor": 0,
 "worksheets": [
  {
   "cells": [
    {
     "cell_type": "markdown",
     "metadata": {},
     "source": [
      "# Game of Life\n",
      "\n",
      "For CSCS530 course iPython checkpoint \\#2\n",
      "\n",
      "Author: Yaya Zhai\n",
      "\n",
      "Date: 03/25/2015\n",
      "## Introduction to Game of Life\n",
      "Game of life is an interesting model of cellular automaton proposed by John Horton Conway.\n",
      "Simple as the rules in this model may be, it shows intriguing self-organizing properties and has drawn attention of experts from many different disciplines.\n",
      "\n",
      "## Initialization and Rules:\n",
      "### Initialization\n",
      "In an infinite 2D space, several grids are chosen to be 'alive'. Others are considered dead. \n",
      "### Rules\n",
      "The concept of 'neighbor' here is defined as the surrounding 8 cells for given position, also known as Moore neighbor.\n",
      "\n",
      "The rules for every time step are:\n",
      "* If a living cell has more than 3 neighbors, it would die because of overcrowding.\n",
      "* If a living cell has less than 2 neighbors, it would die because of underpopulation.\n",
      "* If a living cell has 2 or 3 neighbors, it would remain alive.\n",
      "* If a dead cell has exactly 3 neighbors, it would come to life; otherwise it would remain dead.\n",
      "\n",
      "This model is implemented to investigate how the total number of living cells would change with regard to every step given an initial state; and the final living cells given different initialization density."
     ]
    },
    {
     "cell_type": "code",
     "collapsed": false,
     "input": [
      "import numpy as np\n",
      "import time"
     ],
     "language": "python",
     "metadata": {},
     "outputs": [],
     "prompt_number": 1
    },
    {
     "cell_type": "code",
     "collapsed": false,
     "input": [
      "# Function to initialize the space(square) and starting states of cells\n",
      "# Dead cells are denoted by 0 and living cells 1\n",
      "def create_data(grid_size, density):\n",
      "    space = np.zeros((grid_size, grid_size), dtype=np.int8)\n",
      "    for row_id in range(grid_size):\n",
      "        for col_id in range(grid_size):\n",
      "            if np.random.random() <= density:\n",
      "                space[row_id, col_id] = 1\n",
      "            else:\n",
      "                continue\n",
      "    return space"
     ],
     "language": "python",
     "metadata": {},
     "outputs": [],
     "prompt_number": 2
    },
    {
     "cell_type": "code",
     "collapsed": false,
     "input": [
      "# Detect how many neighbors are alive given current cell position\n",
      "# Wrapped space is used to simulate 'infinite' space\n",
      "def get_neighbor_sum(space, grid_size, x, y):\n",
      "    neighbor_sum = 0\n",
      "    for i in xrange(x-1, x+2):\n",
      "        for j in xrange(y-1, y+2):\n",
      "            neighbor_sum += space[i % grid_size, j % grid_size]\n",
      "    neighbor_sum += - space[x,y]\n",
      "    return neighbor_sum"
     ],
     "language": "python",
     "metadata": {},
     "outputs": [],
     "prompt_number": 3
    },
    {
     "cell_type": "code",
     "collapsed": false,
     "input": [
      "# The actions of every time step given the four rules mentioned above.\n",
      "def step_method(space, grid_size):\n",
      "    space_copy = space\n",
      "    for i in xrange(grid_size):\n",
      "        for j in xrange(grid_size):\n",
      "            neighbor_sum = get_neighbor_sum(space_copy, grid_size, i, j)\n",
      "            # dead cells would come back to life if and only if it has three neighbors\n",
      "            if space[i,j] == 0:\n",
      "                if neighbor_sum == 3:\n",
      "                    space[i,j] = 1\n",
      "                else:\n",
      "                    continue\n",
      "            # living cells would die if its living neighbors are less than 2 or larger than 3\n",
      "            else:\n",
      "                if(neighbor_sum<2 or neighbor_sum>3):\n",
      "                    space[i,j] = 0\n",
      "                else:\n",
      "                    continue\n",
      "    return space"
     ],
     "language": "python",
     "metadata": {},
     "outputs": [],
     "prompt_number": 4
    },
    {
     "cell_type": "code",
     "collapsed": false,
     "input": [
      "# get the number of total alive cells given a certain state of space\n",
      "def get_alive(space, grid_size):\n",
      "    alive = 0\n",
      "    for i in xrange(grid_size):\n",
      "        for j in xrange(grid_size):\n",
      "            alive += space[i,j]\n",
      "    return alive"
     ],
     "language": "python",
     "metadata": {},
     "outputs": [],
     "prompt_number": 5
    },
    {
     "cell_type": "markdown",
     "metadata": {},
     "source": [
      "Explore the changing states of cells with regard to time given initial condition.\n",
      "The following code should pop a new window displaying the location of living cells for every time step."
     ]
    },
    {
     "cell_type": "code",
     "collapsed": false,
     "input": [
      "%pylab\n",
      "# Initialization condition\n",
      "density = 0.1\n",
      "grid_size = 50\n",
      "# create initial states of cells\n",
      "space = create_data(grid_size, density)\n",
      "# total time step\n",
      "nsteps = 100\n",
      "# list to record the numbers of living cells in every time step\n",
      "history_alive = []\n",
      "\n",
      "p = pcolor(space, cmap = 'binary')\n",
      "draw()\n",
      "\n",
      "for step in xrange(nsteps):\n",
      "    alive = get_alive(space, grid_size)\n",
      "    history_alive.append(alive)\n",
      "    step_method(space, grid_size)\n",
      "    p.set_array(space.ravel())\n",
      "    p.autoscale()\n",
      "    draw()\n",
      "    time.sleep(0.1)\n"
     ],
     "language": "python",
     "metadata": {},
     "outputs": [
      {
       "output_type": "stream",
       "stream": "stdout",
       "text": [
        "Using matplotlib backend: MacOSX\n",
        "Populating the interactive namespace from numpy and matplotlib\n"
       ]
      }
     ],
     "prompt_number": 6
    },
    {
     "cell_type": "code",
     "collapsed": false,
     "input": [
      "%matplotlib inline\n",
      "import matplotlib.pyplot as plt"
     ],
     "language": "python",
     "metadata": {},
     "outputs": [],
     "prompt_number": 7
    },
    {
     "cell_type": "code",
     "collapsed": false,
     "input": [
      "# plot the numbers of living cells in every time step\n",
      "plt.plot(xrange(nsteps),history_alive)\n",
      "plt.xlabel('step')\n",
      "plt.ylabel('alives')\n",
      "plt.show()"
     ],
     "language": "python",
     "metadata": {},
     "outputs": [
      {
       "metadata": {},
       "output_type": "display_data",
       "png": "[encoded data removed]",
       "text": [
        "<matplotlib.figure.Figure at 0x104f57e50>"
       ]
      }
     ],
     "prompt_number": 8
    },
    {
     "cell_type": "markdown",
     "metadata": {},
     "source": [
      "Explore the number of final living cells given different initial density."
     ]
    },
    {
     "cell_type": "code",
     "collapsed": false,
     "input": [
      "grid_size = 50\n",
      "alive_at_100 = []\n",
      "den_ls = linspace(0.01, 0.99, 20)\n",
      "for density in den_ls:\n",
      "    space = create_data(grid_size, density)\n",
      "    nsteps = 100\n",
      "    for step in xrange(nsteps):\n",
      "        step_method(space, grid_size)\n",
      "    alive = get_alive(space, grid_size)\n",
      "    alive_at_100.append(alive)\n",
      "\n",
      "plt.plot(den_ls,alive_at_100)\n",
      "plt.xlabel('Initial density')\n",
      "plt.ylabel('alives at 100th step')\n",
      "plt.show()"
     ],
     "language": "python",
     "metadata": {},
     "outputs": [
      {
       "metadata": {},
       "output_type": "display_data",
       "png": "[encoded data removed]",
       "text": [
        "<matplotlib.figure.Figure at 0x10b8a0c10>"
       ]
      }
     ],
     "prompt_number": 13
    },
    {
     "cell_type": "code",
     "collapsed": false,
     "input": [],
     "language": "python",
     "metadata": {},
     "outputs": []
    }
   ],
   "metadata": {}
  }
 ]
}